{
 "cells": [
  {
   "cell_type": "markdown",
   "id": "7f64aadd",
   "metadata": {},
   "source": [
    "#      Project: Medical Appointment No Shows Analysis"
   ]
  },
  {
   "cell_type": "markdown",
   "id": "68f8ee5b",
   "metadata": {},
   "source": [
    "# "
   ]
  },
  {
   "cell_type": "markdown",
   "id": "cda89d66",
   "metadata": {},
   "source": [
    "#### Project: Medical Appointment No Shows Analysis\n",
    "    Table of Contents\n",
    "    Introduction\n",
    "    Data Wrangling\n",
    "    Exploratory Data Analysis\n",
    "    Conclusions"
   ]
  },
  {
   "cell_type": "code",
   "execution_count": 3,
   "id": "f4a3ddee",
   "metadata": {},
   "outputs": [],
   "source": [
    "#pwd"
   ]
  },
  {
   "cell_type": "markdown",
   "id": "ae37ad6d",
   "metadata": {},
   "source": [
    "##### About Data -\n",
    "\n",
    "This is an analysis of the No-show appointments datasets. The data contains 110,527 medical appointments record with its 14 associated variables (characteristics). The most important one is if a patient show-up or does not show up to the appointment. The analysis was made to find if a choosing set of variables might likely be a predictor of whether a patient shows up for their appointment or not."
   ]
  },
  {
   "cell_type": "markdown",
   "id": "d70c7e9c",
   "metadata": {},
   "source": [
    "##### Variable Description \n",
    "The dataset contains a total of 14 variables. However as the analysis progressed the number of variables were trimmed down. The variables that remained were those that the analyst thought might be of importance to the analysis. The total variables of the dataset by default are as follows:\n",
    "\n",
    "1.  PatientId\n",
    "2.  AppointmentID\n",
    "3.  Gender\n",
    "4.  ScheduledDay\n",
    "5.  AppointmentDay\n",
    "6.  Age\n",
    "7.  Neighbourhood\n",
    "8.  Scholarship\n",
    "9.  Hipertension\n",
    "10. Diabetes\n",
    "11. Alcoholism\n",
    "12. Handcap\n",
    "13. SMS_received\n",
    "14. No-show\n",
    "\n",
    "###### While the trimmed down dataset includes the following columns\n",
    "\n",
    "Introduction\n",
    "About\n",
    "This is an analysis of the No-show appointments datasets. The data contains 110,527 medical appointments record with its 14 associated variables (characteristics). The most important one is if a patient show-up or does not show up to the appointment. The analysis was made to find if a choosing set of variables might likely be a predictor of wether a patient shows up for their appointment or not.\n",
    "\n",
    "Variable Description\n",
    "The dataset contains a total of 14 variables. However as the analysis progressed the number of variables were trimmed down. The variables that remained were those that the analyst thought might be of importance to the analysis. The total variables of the dataset by default are as follows:\n",
    "\n",
    "PatientId\n",
    "AppointmentID\n",
    "Gender\n",
    "ScheduledDay\n",
    "AppointmentDay\n",
    "Age\n",
    "Neighbourhood\n",
    "Scholarship\n",
    "Hipertension\n",
    "Diabetes\n",
    "Alcoholism\n",
    "Handcap\n",
    "SMS_received\n",
    "No-show\n",
    "While the trimmed down dataset includes the following columns\n",
    "\n",
    "1. Gender > The gender of the patient\n",
    "2. Scheduled day > The day the appointment was setup\n",
    "3. Appointment day > The main appointment day\n",
    "4. Age > Age of the patient\n",
    "5. Neighbourhood > Location of the hospital\n",
    "6. Scholarship > Whether or not a patient is a welfare        recipient\n",
    "7. Hypertension > Hypertensive status of the patient\n",
    "8. Diabetes > Diabetic status of the patient\n",
    "9. Alcoholism > Whether the patient is an alcoholic\n",
    "10. Handcap > whether the patient is an Handicap\n",
    "10. Sms received > Whether an SMS reminder was sent\n",
    "11. show > Whether the patient showed up for the   appointment"
   ]
  },
  {
   "cell_type": "markdown",
   "id": "8d660105",
   "metadata": {},
   "source": [
    "#### Analysis question\n",
    "\n",
    "######  What factors are important to keep in mind in order        to predict if a patient will show up for their            scheduled appointment ?"
   ]
  },
  {
   "cell_type": "code",
   "execution_count": 4,
   "id": "a269b271",
   "metadata": {},
   "outputs": [],
   "source": [
    "#Library we need to import is - \n",
    "\n",
    "import pandas as pd\n",
    "import seaborn as sns\n",
    "import matplotlib.pyplot as plt \n",
    "import numpy as np\n"
   ]
  },
  {
   "cell_type": "code",
   "execution_count": 6,
   "id": "d41f3f5a",
   "metadata": {},
   "outputs": [],
   "source": [
    "#df = pd.read_csv('C:\\\\Users\\\\medical_appoinment_no_show.csv')"
   ]
  },
  {
   "cell_type": "markdown",
   "id": "63b71ba8",
   "metadata": {},
   "source": [
    "#### Let's understand the data\n",
    "\n",
    "This section includes the steps taken to understand the dataset. Also included as part of the session was the data cleaning stage. The cleaning was done to ensure data consistency, correct data formatting, handling duplicates and adjusting columns names for convenience of the analysis"
   ]
  },
  {
   "cell_type": "code",
   "execution_count": 7,
   "id": "689aeb52",
   "metadata": {},
   "outputs": [
    {
     "data": {
      "text/html": [
       "<div>\n",
       "<style scoped>\n",
       "    .dataframe tbody tr th:only-of-type {\n",
       "        vertical-align: middle;\n",
       "    }\n",
       "\n",
       "    .dataframe tbody tr th {\n",
       "        vertical-align: top;\n",
       "    }\n",
       "\n",
       "    .dataframe thead th {\n",
       "        text-align: right;\n",
       "    }\n",
       "</style>\n",
       "<table border=\"1\" class=\"dataframe\">\n",
       "  <thead>\n",
       "    <tr style=\"text-align: right;\">\n",
       "      <th></th>\n",
       "      <th>PatientId</th>\n",
       "      <th>AppointmentID</th>\n",
       "      <th>Gender</th>\n",
       "      <th>ScheduledDay</th>\n",
       "      <th>AppointmentDay</th>\n",
       "      <th>Age</th>\n",
       "      <th>Neighbourhood</th>\n",
       "      <th>Scholarship</th>\n",
       "      <th>Hipertension</th>\n",
       "      <th>Diabetes</th>\n",
       "      <th>Alcoholism</th>\n",
       "      <th>Handcap</th>\n",
       "      <th>SMS_received</th>\n",
       "      <th>No-show</th>\n",
       "    </tr>\n",
       "  </thead>\n",
       "  <tbody>\n",
       "    <tr>\n",
       "      <th>0</th>\n",
       "      <td>2.987250e+13</td>\n",
       "      <td>5642903</td>\n",
       "      <td>F</td>\n",
       "      <td>2016-04-29T18:38:08Z</td>\n",
       "      <td>2016-04-29T00:00:00Z</td>\n",
       "      <td>62</td>\n",
       "      <td>JARDIM DA PENHA</td>\n",
       "      <td>0</td>\n",
       "      <td>1</td>\n",
       "      <td>0</td>\n",
       "      <td>0</td>\n",
       "      <td>0</td>\n",
       "      <td>0</td>\n",
       "      <td>No</td>\n",
       "    </tr>\n",
       "    <tr>\n",
       "      <th>1</th>\n",
       "      <td>5.589978e+14</td>\n",
       "      <td>5642503</td>\n",
       "      <td>M</td>\n",
       "      <td>2016-04-29T16:08:27Z</td>\n",
       "      <td>2016-04-29T00:00:00Z</td>\n",
       "      <td>56</td>\n",
       "      <td>JARDIM DA PENHA</td>\n",
       "      <td>0</td>\n",
       "      <td>0</td>\n",
       "      <td>0</td>\n",
       "      <td>0</td>\n",
       "      <td>0</td>\n",
       "      <td>0</td>\n",
       "      <td>No</td>\n",
       "    </tr>\n",
       "    <tr>\n",
       "      <th>2</th>\n",
       "      <td>4.262962e+12</td>\n",
       "      <td>5642549</td>\n",
       "      <td>F</td>\n",
       "      <td>2016-04-29T16:19:04Z</td>\n",
       "      <td>2016-04-29T00:00:00Z</td>\n",
       "      <td>62</td>\n",
       "      <td>MATA DA PRAIA</td>\n",
       "      <td>0</td>\n",
       "      <td>0</td>\n",
       "      <td>0</td>\n",
       "      <td>0</td>\n",
       "      <td>0</td>\n",
       "      <td>0</td>\n",
       "      <td>No</td>\n",
       "    </tr>\n",
       "  </tbody>\n",
       "</table>\n",
       "</div>"
      ],
      "text/plain": [
       "      PatientId  AppointmentID Gender          ScheduledDay  \\\n",
       "0  2.987250e+13        5642903      F  2016-04-29T18:38:08Z   \n",
       "1  5.589978e+14        5642503      M  2016-04-29T16:08:27Z   \n",
       "2  4.262962e+12        5642549      F  2016-04-29T16:19:04Z   \n",
       "\n",
       "         AppointmentDay  Age    Neighbourhood  Scholarship  Hipertension  \\\n",
       "0  2016-04-29T00:00:00Z   62  JARDIM DA PENHA            0             1   \n",
       "1  2016-04-29T00:00:00Z   56  JARDIM DA PENHA            0             0   \n",
       "2  2016-04-29T00:00:00Z   62    MATA DA PRAIA            0             0   \n",
       "\n",
       "   Diabetes  Alcoholism  Handcap  SMS_received No-show  \n",
       "0         0           0        0             0      No  \n",
       "1         0           0        0             0      No  \n",
       "2         0           0        0             0      No  "
      ]
     },
     "execution_count": 7,
     "metadata": {},
     "output_type": "execute_result"
    }
   ],
   "source": [
    "df.head(3)"
   ]
  },
  {
   "cell_type": "code",
   "execution_count": 8,
   "id": "23dbb534",
   "metadata": {},
   "outputs": [
    {
     "data": {
      "text/plain": [
       "array(['No', 'Yes'], dtype=object)"
      ]
     },
     "execution_count": 8,
     "metadata": {},
     "output_type": "execute_result"
    }
   ],
   "source": [
    "df['No-show'].unique()"
   ]
  },
  {
   "cell_type": "code",
   "execution_count": 9,
   "id": "e47364b9",
   "metadata": {},
   "outputs": [
    {
     "name": "stdout",
     "output_type": "stream",
     "text": [
      "<class 'pandas.core.frame.DataFrame'>\n",
      "RangeIndex: 110527 entries, 0 to 110526\n",
      "Data columns (total 14 columns):\n",
      " #   Column          Non-Null Count   Dtype  \n",
      "---  ------          --------------   -----  \n",
      " 0   PatientId       110527 non-null  float64\n",
      " 1   AppointmentID   110527 non-null  int64  \n",
      " 2   Gender          110527 non-null  object \n",
      " 3   ScheduledDay    110527 non-null  object \n",
      " 4   AppointmentDay  110527 non-null  object \n",
      " 5   Age             110527 non-null  int64  \n",
      " 6   Neighbourhood   110527 non-null  object \n",
      " 7   Scholarship     110527 non-null  int64  \n",
      " 8   Hipertension    110527 non-null  int64  \n",
      " 9   Diabetes        110527 non-null  int64  \n",
      " 10  Alcoholism      110527 non-null  int64  \n",
      " 11  Handcap         110527 non-null  int64  \n",
      " 12  SMS_received    110527 non-null  int64  \n",
      " 13  No-show         110527 non-null  object \n",
      "dtypes: float64(1), int64(8), object(5)\n",
      "memory usage: 11.8+ MB\n"
     ]
    }
   ],
   "source": [
    "#datatypes of variables\n",
    "df.info()"
   ]
  },
  {
   "cell_type": "code",
   "execution_count": 10,
   "id": "dd95e50e",
   "metadata": {},
   "outputs": [
    {
     "data": {
      "text/plain": [
       "(110527, 14)"
      ]
     },
     "execution_count": 10,
     "metadata": {},
     "output_type": "execute_result"
    }
   ],
   "source": [
    "#dimension of data(rows,columns)\n",
    "df.shape"
   ]
  },
  {
   "cell_type": "code",
   "execution_count": 11,
   "id": "927d469a",
   "metadata": {},
   "outputs": [
    {
     "data": {
      "text/html": [
       "<div>\n",
       "<style scoped>\n",
       "    .dataframe tbody tr th:only-of-type {\n",
       "        vertical-align: middle;\n",
       "    }\n",
       "\n",
       "    .dataframe tbody tr th {\n",
       "        vertical-align: top;\n",
       "    }\n",
       "\n",
       "    .dataframe thead th {\n",
       "        text-align: right;\n",
       "    }\n",
       "</style>\n",
       "<table border=\"1\" class=\"dataframe\">\n",
       "  <thead>\n",
       "    <tr style=\"text-align: right;\">\n",
       "      <th></th>\n",
       "      <th>PatientId</th>\n",
       "      <th>AppointmentID</th>\n",
       "      <th>Age</th>\n",
       "      <th>Scholarship</th>\n",
       "      <th>Hipertension</th>\n",
       "      <th>Diabetes</th>\n",
       "      <th>Alcoholism</th>\n",
       "      <th>Handcap</th>\n",
       "      <th>SMS_received</th>\n",
       "    </tr>\n",
       "  </thead>\n",
       "  <tbody>\n",
       "    <tr>\n",
       "      <th>count</th>\n",
       "      <td>1.105270e+05</td>\n",
       "      <td>1.105270e+05</td>\n",
       "      <td>110527.000000</td>\n",
       "      <td>110527.000000</td>\n",
       "      <td>110527.000000</td>\n",
       "      <td>110527.000000</td>\n",
       "      <td>110527.000000</td>\n",
       "      <td>110527.000000</td>\n",
       "      <td>110527.000000</td>\n",
       "    </tr>\n",
       "    <tr>\n",
       "      <th>mean</th>\n",
       "      <td>1.474963e+14</td>\n",
       "      <td>5.675305e+06</td>\n",
       "      <td>37.088874</td>\n",
       "      <td>0.098266</td>\n",
       "      <td>0.197246</td>\n",
       "      <td>0.071865</td>\n",
       "      <td>0.030400</td>\n",
       "      <td>0.022248</td>\n",
       "      <td>0.321026</td>\n",
       "    </tr>\n",
       "    <tr>\n",
       "      <th>std</th>\n",
       "      <td>2.560949e+14</td>\n",
       "      <td>7.129575e+04</td>\n",
       "      <td>23.110205</td>\n",
       "      <td>0.297675</td>\n",
       "      <td>0.397921</td>\n",
       "      <td>0.258265</td>\n",
       "      <td>0.171686</td>\n",
       "      <td>0.161543</td>\n",
       "      <td>0.466873</td>\n",
       "    </tr>\n",
       "    <tr>\n",
       "      <th>min</th>\n",
       "      <td>3.921784e+04</td>\n",
       "      <td>5.030230e+06</td>\n",
       "      <td>-1.000000</td>\n",
       "      <td>0.000000</td>\n",
       "      <td>0.000000</td>\n",
       "      <td>0.000000</td>\n",
       "      <td>0.000000</td>\n",
       "      <td>0.000000</td>\n",
       "      <td>0.000000</td>\n",
       "    </tr>\n",
       "    <tr>\n",
       "      <th>25%</th>\n",
       "      <td>4.172614e+12</td>\n",
       "      <td>5.640286e+06</td>\n",
       "      <td>18.000000</td>\n",
       "      <td>0.000000</td>\n",
       "      <td>0.000000</td>\n",
       "      <td>0.000000</td>\n",
       "      <td>0.000000</td>\n",
       "      <td>0.000000</td>\n",
       "      <td>0.000000</td>\n",
       "    </tr>\n",
       "    <tr>\n",
       "      <th>50%</th>\n",
       "      <td>3.173184e+13</td>\n",
       "      <td>5.680573e+06</td>\n",
       "      <td>37.000000</td>\n",
       "      <td>0.000000</td>\n",
       "      <td>0.000000</td>\n",
       "      <td>0.000000</td>\n",
       "      <td>0.000000</td>\n",
       "      <td>0.000000</td>\n",
       "      <td>0.000000</td>\n",
       "    </tr>\n",
       "    <tr>\n",
       "      <th>75%</th>\n",
       "      <td>9.439172e+13</td>\n",
       "      <td>5.725524e+06</td>\n",
       "      <td>55.000000</td>\n",
       "      <td>0.000000</td>\n",
       "      <td>0.000000</td>\n",
       "      <td>0.000000</td>\n",
       "      <td>0.000000</td>\n",
       "      <td>0.000000</td>\n",
       "      <td>1.000000</td>\n",
       "    </tr>\n",
       "    <tr>\n",
       "      <th>max</th>\n",
       "      <td>9.999816e+14</td>\n",
       "      <td>5.790484e+06</td>\n",
       "      <td>115.000000</td>\n",
       "      <td>1.000000</td>\n",
       "      <td>1.000000</td>\n",
       "      <td>1.000000</td>\n",
       "      <td>1.000000</td>\n",
       "      <td>4.000000</td>\n",
       "      <td>1.000000</td>\n",
       "    </tr>\n",
       "  </tbody>\n",
       "</table>\n",
       "</div>"
      ],
      "text/plain": [
       "          PatientId  AppointmentID            Age    Scholarship  \\\n",
       "count  1.105270e+05   1.105270e+05  110527.000000  110527.000000   \n",
       "mean   1.474963e+14   5.675305e+06      37.088874       0.098266   \n",
       "std    2.560949e+14   7.129575e+04      23.110205       0.297675   \n",
       "min    3.921784e+04   5.030230e+06      -1.000000       0.000000   \n",
       "25%    4.172614e+12   5.640286e+06      18.000000       0.000000   \n",
       "50%    3.173184e+13   5.680573e+06      37.000000       0.000000   \n",
       "75%    9.439172e+13   5.725524e+06      55.000000       0.000000   \n",
       "max    9.999816e+14   5.790484e+06     115.000000       1.000000   \n",
       "\n",
       "        Hipertension       Diabetes     Alcoholism        Handcap  \\\n",
       "count  110527.000000  110527.000000  110527.000000  110527.000000   \n",
       "mean        0.197246       0.071865       0.030400       0.022248   \n",
       "std         0.397921       0.258265       0.171686       0.161543   \n",
       "min         0.000000       0.000000       0.000000       0.000000   \n",
       "25%         0.000000       0.000000       0.000000       0.000000   \n",
       "50%         0.000000       0.000000       0.000000       0.000000   \n",
       "75%         0.000000       0.000000       0.000000       0.000000   \n",
       "max         1.000000       1.000000       1.000000       4.000000   \n",
       "\n",
       "        SMS_received  \n",
       "count  110527.000000  \n",
       "mean        0.321026  \n",
       "std         0.466873  \n",
       "min         0.000000  \n",
       "25%         0.000000  \n",
       "50%         0.000000  \n",
       "75%         1.000000  \n",
       "max         1.000000  "
      ]
     },
     "execution_count": 11,
     "metadata": {},
     "output_type": "execute_result"
    }
   ],
   "source": [
    "# statistical description of dataset\n",
    "df.describe()"
   ]
  },
  {
   "cell_type": "code",
   "execution_count": 12,
   "id": "34e03219",
   "metadata": {},
   "outputs": [
    {
     "data": {
      "text/plain": [
       "Index(['PatientId', 'AppointmentID', 'Gender', 'ScheduledDay',\n",
       "       'AppointmentDay', 'Age', 'Neighbourhood', 'Scholarship', 'Hipertension',\n",
       "       'Diabetes', 'Alcoholism', 'Handcap', 'SMS_received', 'No-show'],\n",
       "      dtype='object')"
      ]
     },
     "execution_count": 12,
     "metadata": {},
     "output_type": "execute_result"
    }
   ],
   "source": [
    "#variables (column) names\n",
    "df.columns"
   ]
  },
  {
   "cell_type": "markdown",
   "id": "f61565b1",
   "metadata": {},
   "source": [
    "##### Check for missing values"
   ]
  },
  {
   "cell_type": "code",
   "execution_count": 13,
   "id": "235c7498",
   "metadata": {},
   "outputs": [
    {
     "data": {
      "text/plain": [
       "PatientId         0\n",
       "AppointmentID     0\n",
       "Gender            0\n",
       "ScheduledDay      0\n",
       "AppointmentDay    0\n",
       "Age               0\n",
       "Neighbourhood     0\n",
       "Scholarship       0\n",
       "Hipertension      0\n",
       "Diabetes          0\n",
       "Alcoholism        0\n",
       "Handcap           0\n",
       "SMS_received      0\n",
       "No-show           0\n",
       "dtype: int64"
      ]
     },
     "execution_count": 13,
     "metadata": {},
     "output_type": "execute_result"
    }
   ],
   "source": [
    "df.isna().sum()"
   ]
  },
  {
   "cell_type": "markdown",
   "id": "bbe2de21",
   "metadata": {},
   "source": [
    "from the above observation it could be observed that\n",
    "the orginial dataset has no missing values."
   ]
  },
  {
   "cell_type": "code",
   "execution_count": null,
   "id": "d3b80c27",
   "metadata": {},
   "outputs": [],
   "source": [
    "                         "
   ]
  },
  {
   "cell_type": "markdown",
   "id": "40f8be2b",
   "metadata": {},
   "source": [
    "### Data Cleaning - "
   ]
  },
  {
   "cell_type": "markdown",
   "id": "558056b7",
   "metadata": {},
   "source": [
    "##### Adjust column names - convert to lowercase to ensure consistency and typing convenience"
   ]
  },
  {
   "cell_type": "code",
   "execution_count": 14,
   "id": "3b463fb8",
   "metadata": {},
   "outputs": [],
   "source": [
    "df.columns = pd.Series(df.columns).apply(lambda x:x.lower().replace('-','_').replace('day','_day'))"
   ]
  },
  {
   "cell_type": "markdown",
   "id": "84a0cc71",
   "metadata": {},
   "source": [
    "###### Adjusting spellings and confusing column name"
   ]
  },
  {
   "cell_type": "markdown",
   "id": "70a604aa",
   "metadata": {},
   "source": [
    "###### The 'no_show' column was confusing, so it was renamed show."
   ]
  },
  {
   "cell_type": "code",
   "execution_count": 15,
   "id": "8017a67e",
   "metadata": {},
   "outputs": [],
   "source": [
    "#Adjust spelling of 'hypertension'\n",
    "df.rename(columns={'hipertension':'hypertension','no_show':'show'},inplace=True)"
   ]
  },
  {
   "cell_type": "code",
   "execution_count": 16,
   "id": "bdc06ca0",
   "metadata": {},
   "outputs": [
    {
     "data": {
      "text/plain": [
       "Index(['patientid', 'appointmentid', 'gender', 'scheduled_day',\n",
       "       'appointment_day', 'age', 'neighbourhood', 'scholarship',\n",
       "       'hypertension', 'diabetes', 'alcoholism', 'handcap', 'sms_received',\n",
       "       'show'],\n",
       "      dtype='object')"
      ]
     },
     "execution_count": 16,
     "metadata": {},
     "output_type": "execute_result"
    }
   ],
   "source": [
    "df.columns"
   ]
  },
  {
   "cell_type": "markdown",
   "id": "59512809",
   "metadata": {},
   "source": [
    "##### Remove non useful columns -\n",
    "\n",
    "Columns patientid and appointmentid were removed because they were dimmed to be of no relevance to the analysis. This decision was predicated on the fact that the anlaysis does no go into individuals but rather the population as a whole."
   ]
  },
  {
   "cell_type": "code",
   "execution_count": 17,
   "id": "a3e551d3",
   "metadata": {},
   "outputs": [
    {
     "data": {
      "text/plain": [
       "Index(['gender', 'scheduled_day', 'appointment_day', 'age', 'neighbourhood',\n",
       "       'scholarship', 'hypertension', 'diabetes', 'alcoholism', 'handcap',\n",
       "       'sms_received', 'show'],\n",
       "      dtype='object')"
      ]
     },
     "execution_count": 17,
     "metadata": {},
     "output_type": "execute_result"
    }
   ],
   "source": [
    "df.drop(['patientid','appointmentid'],axis=1,inplace=True)\n",
    "\n",
    "df.columns"
   ]
  },
  {
   "cell_type": "markdown",
   "id": "e469e3bd",
   "metadata": {},
   "source": [
    "##### Feature engineering\n",
    "\n",
    "This section contain adjustment to the dataset variable\n",
    "elements for easy manipulation"
   ]
  },
  {
   "cell_type": "code",
   "execution_count": 18,
   "id": "20696172",
   "metadata": {},
   "outputs": [
    {
     "data": {
      "text/html": [
       "<div>\n",
       "<style scoped>\n",
       "    .dataframe tbody tr th:only-of-type {\n",
       "        vertical-align: middle;\n",
       "    }\n",
       "\n",
       "    .dataframe tbody tr th {\n",
       "        vertical-align: top;\n",
       "    }\n",
       "\n",
       "    .dataframe thead th {\n",
       "        text-align: right;\n",
       "    }\n",
       "</style>\n",
       "<table border=\"1\" class=\"dataframe\">\n",
       "  <thead>\n",
       "    <tr style=\"text-align: right;\">\n",
       "      <th></th>\n",
       "      <th>gender</th>\n",
       "      <th>scheduled_day</th>\n",
       "      <th>appointment_day</th>\n",
       "      <th>age</th>\n",
       "      <th>neighbourhood</th>\n",
       "      <th>scholarship</th>\n",
       "      <th>hypertension</th>\n",
       "      <th>diabetes</th>\n",
       "      <th>alcoholism</th>\n",
       "      <th>handcap</th>\n",
       "      <th>sms_received</th>\n",
       "      <th>show</th>\n",
       "    </tr>\n",
       "  </thead>\n",
       "  <tbody>\n",
       "    <tr>\n",
       "      <th>0</th>\n",
       "      <td>F</td>\n",
       "      <td>2016-04-29T18:38:08Z</td>\n",
       "      <td>2016-04-29T00:00:00Z</td>\n",
       "      <td>62</td>\n",
       "      <td>JARDIM DA PENHA</td>\n",
       "      <td>0</td>\n",
       "      <td>1</td>\n",
       "      <td>0</td>\n",
       "      <td>0</td>\n",
       "      <td>0</td>\n",
       "      <td>0</td>\n",
       "      <td>No</td>\n",
       "    </tr>\n",
       "    <tr>\n",
       "      <th>1</th>\n",
       "      <td>M</td>\n",
       "      <td>2016-04-29T16:08:27Z</td>\n",
       "      <td>2016-04-29T00:00:00Z</td>\n",
       "      <td>56</td>\n",
       "      <td>JARDIM DA PENHA</td>\n",
       "      <td>0</td>\n",
       "      <td>0</td>\n",
       "      <td>0</td>\n",
       "      <td>0</td>\n",
       "      <td>0</td>\n",
       "      <td>0</td>\n",
       "      <td>No</td>\n",
       "    </tr>\n",
       "  </tbody>\n",
       "</table>\n",
       "</div>"
      ],
      "text/plain": [
       "  gender         scheduled_day       appointment_day  age    neighbourhood  \\\n",
       "0      F  2016-04-29T18:38:08Z  2016-04-29T00:00:00Z   62  JARDIM DA PENHA   \n",
       "1      M  2016-04-29T16:08:27Z  2016-04-29T00:00:00Z   56  JARDIM DA PENHA   \n",
       "\n",
       "   scholarship  hypertension  diabetes  alcoholism  handcap  sms_received show  \n",
       "0            0             1         0           0        0             0   No  \n",
       "1            0             0         0           0        0             0   No  "
      ]
     },
     "execution_count": 18,
     "metadata": {},
     "output_type": "execute_result"
    }
   ],
   "source": [
    "df.head(2)"
   ]
  },
  {
   "cell_type": "markdown",
   "id": "d306890f",
   "metadata": {},
   "source": [
    "Below is the adjustments to the show column values made to reflect the change of name of the column."
   ]
  },
  {
   "cell_type": "code",
   "execution_count": 19,
   "id": "6d5c1561",
   "metadata": {},
   "outputs": [
    {
     "data": {
      "text/html": [
       "<div>\n",
       "<style scoped>\n",
       "    .dataframe tbody tr th:only-of-type {\n",
       "        vertical-align: middle;\n",
       "    }\n",
       "\n",
       "    .dataframe tbody tr th {\n",
       "        vertical-align: top;\n",
       "    }\n",
       "\n",
       "    .dataframe thead th {\n",
       "        text-align: right;\n",
       "    }\n",
       "</style>\n",
       "<table border=\"1\" class=\"dataframe\">\n",
       "  <thead>\n",
       "    <tr style=\"text-align: right;\">\n",
       "      <th></th>\n",
       "      <th>gender</th>\n",
       "      <th>scheduled_day</th>\n",
       "      <th>appointment_day</th>\n",
       "      <th>age</th>\n",
       "      <th>neighbourhood</th>\n",
       "      <th>scholarship</th>\n",
       "      <th>hypertension</th>\n",
       "      <th>diabetes</th>\n",
       "      <th>alcoholism</th>\n",
       "      <th>handcap</th>\n",
       "      <th>sms_received</th>\n",
       "      <th>show</th>\n",
       "    </tr>\n",
       "  </thead>\n",
       "  <tbody>\n",
       "    <tr>\n",
       "      <th>81219</th>\n",
       "      <td>F</td>\n",
       "      <td>2016-05-16T10:41:36Z</td>\n",
       "      <td>2016-05-18T00:00:00Z</td>\n",
       "      <td>19</td>\n",
       "      <td>BONFIM</td>\n",
       "      <td>0</td>\n",
       "      <td>0</td>\n",
       "      <td>0</td>\n",
       "      <td>0</td>\n",
       "      <td>0</td>\n",
       "      <td>0</td>\n",
       "      <td>No</td>\n",
       "    </tr>\n",
       "    <tr>\n",
       "      <th>12920</th>\n",
       "      <td>F</td>\n",
       "      <td>2016-04-05T11:46:26Z</td>\n",
       "      <td>2016-05-31T00:00:00Z</td>\n",
       "      <td>27</td>\n",
       "      <td>ILHA DE SANTA MARIA</td>\n",
       "      <td>0</td>\n",
       "      <td>0</td>\n",
       "      <td>0</td>\n",
       "      <td>0</td>\n",
       "      <td>0</td>\n",
       "      <td>1</td>\n",
       "      <td>No</td>\n",
       "    </tr>\n",
       "    <tr>\n",
       "      <th>3284</th>\n",
       "      <td>F</td>\n",
       "      <td>2016-05-12T10:26:44Z</td>\n",
       "      <td>2016-05-24T00:00:00Z</td>\n",
       "      <td>29</td>\n",
       "      <td>MARIA ORTIZ</td>\n",
       "      <td>0</td>\n",
       "      <td>0</td>\n",
       "      <td>0</td>\n",
       "      <td>0</td>\n",
       "      <td>0</td>\n",
       "      <td>1</td>\n",
       "      <td>No</td>\n",
       "    </tr>\n",
       "    <tr>\n",
       "      <th>8929</th>\n",
       "      <td>F</td>\n",
       "      <td>2016-05-03T11:40:26Z</td>\n",
       "      <td>2016-05-10T00:00:00Z</td>\n",
       "      <td>32</td>\n",
       "      <td>BELA VISTA</td>\n",
       "      <td>0</td>\n",
       "      <td>0</td>\n",
       "      <td>0</td>\n",
       "      <td>0</td>\n",
       "      <td>0</td>\n",
       "      <td>1</td>\n",
       "      <td>Yes</td>\n",
       "    </tr>\n",
       "    <tr>\n",
       "      <th>103849</th>\n",
       "      <td>F</td>\n",
       "      <td>2016-05-13T07:10:11Z</td>\n",
       "      <td>2016-06-08T00:00:00Z</td>\n",
       "      <td>51</td>\n",
       "      <td>SANTO ANDRÉ</td>\n",
       "      <td>0</td>\n",
       "      <td>0</td>\n",
       "      <td>0</td>\n",
       "      <td>0</td>\n",
       "      <td>0</td>\n",
       "      <td>1</td>\n",
       "      <td>Yes</td>\n",
       "    </tr>\n",
       "  </tbody>\n",
       "</table>\n",
       "</div>"
      ],
      "text/plain": [
       "       gender         scheduled_day       appointment_day  age  \\\n",
       "81219       F  2016-05-16T10:41:36Z  2016-05-18T00:00:00Z   19   \n",
       "12920       F  2016-04-05T11:46:26Z  2016-05-31T00:00:00Z   27   \n",
       "3284        F  2016-05-12T10:26:44Z  2016-05-24T00:00:00Z   29   \n",
       "8929        F  2016-05-03T11:40:26Z  2016-05-10T00:00:00Z   32   \n",
       "103849      F  2016-05-13T07:10:11Z  2016-06-08T00:00:00Z   51   \n",
       "\n",
       "              neighbourhood  scholarship  hypertension  diabetes  alcoholism  \\\n",
       "81219                BONFIM            0             0         0           0   \n",
       "12920   ILHA DE SANTA MARIA            0             0         0           0   \n",
       "3284            MARIA ORTIZ            0             0         0           0   \n",
       "8929             BELA VISTA            0             0         0           0   \n",
       "103849          SANTO ANDRÉ            0             0         0           0   \n",
       "\n",
       "        handcap  sms_received show  \n",
       "81219         0             0   No  \n",
       "12920         0             1   No  \n",
       "3284          0             1   No  \n",
       "8929          0             1  Yes  \n",
       "103849        0             1  Yes  "
      ]
     },
     "execution_count": 19,
     "metadata": {},
     "output_type": "execute_result"
    }
   ],
   "source": [
    "# switch 'show' column values to reflect the change of\n",
    "# name from no_show to show\n",
    "\n",
    "df.show = df.show.apply(lambda x:'Yes' if x =='No' else 'No')\n",
    "\n",
    "df.sample(5)"
   ]
  },
  {
   "cell_type": "code",
   "execution_count": 20,
   "id": "4f58b183",
   "metadata": {},
   "outputs": [
    {
     "data": {
      "text/plain": [
       "scholarship     2\n",
       "hypertension    2\n",
       "diabetes        2\n",
       "alcoholism      2\n",
       "sms_received    2\n",
       "dtype: int64"
      ]
     },
     "execution_count": 20,
     "metadata": {},
     "output_type": "execute_result"
    }
   ],
   "source": [
    "df.iloc[:,[5,6,7,8,10]].nunique()"
   ]
  },
  {
   "cell_type": "code",
   "execution_count": 21,
   "id": "5d788304",
   "metadata": {},
   "outputs": [],
   "source": [
    "df['show']=df['show'].apply(lambda x:'Yes' if x =='Yes' else 'No')"
   ]
  },
  {
   "cell_type": "code",
   "execution_count": 22,
   "id": "f9c0a5ca",
   "metadata": {},
   "outputs": [
    {
     "data": {
      "text/html": [
       "<div>\n",
       "<style scoped>\n",
       "    .dataframe tbody tr th:only-of-type {\n",
       "        vertical-align: middle;\n",
       "    }\n",
       "\n",
       "    .dataframe tbody tr th {\n",
       "        vertical-align: top;\n",
       "    }\n",
       "\n",
       "    .dataframe thead th {\n",
       "        text-align: right;\n",
       "    }\n",
       "</style>\n",
       "<table border=\"1\" class=\"dataframe\">\n",
       "  <thead>\n",
       "    <tr style=\"text-align: right;\">\n",
       "      <th></th>\n",
       "      <th>gender</th>\n",
       "      <th>scheduled_day</th>\n",
       "      <th>appointment_day</th>\n",
       "      <th>age</th>\n",
       "      <th>neighbourhood</th>\n",
       "      <th>scholarship</th>\n",
       "      <th>hypertension</th>\n",
       "      <th>diabetes</th>\n",
       "      <th>alcoholism</th>\n",
       "      <th>handcap</th>\n",
       "      <th>sms_received</th>\n",
       "      <th>show</th>\n",
       "    </tr>\n",
       "  </thead>\n",
       "  <tbody>\n",
       "    <tr>\n",
       "      <th>31564</th>\n",
       "      <td>F</td>\n",
       "      <td>2016-05-18T12:06:56Z</td>\n",
       "      <td>2016-05-19T00:00:00Z</td>\n",
       "      <td>51</td>\n",
       "      <td>PRAIA DO CANTO</td>\n",
       "      <td>0</td>\n",
       "      <td>0</td>\n",
       "      <td>0</td>\n",
       "      <td>0</td>\n",
       "      <td>0</td>\n",
       "      <td>0</td>\n",
       "      <td>Yes</td>\n",
       "    </tr>\n",
       "    <tr>\n",
       "      <th>63460</th>\n",
       "      <td>F</td>\n",
       "      <td>2016-05-10T08:28:15Z</td>\n",
       "      <td>2016-05-10T00:00:00Z</td>\n",
       "      <td>23</td>\n",
       "      <td>SÃO BENEDITO</td>\n",
       "      <td>0</td>\n",
       "      <td>0</td>\n",
       "      <td>0</td>\n",
       "      <td>0</td>\n",
       "      <td>0</td>\n",
       "      <td>0</td>\n",
       "      <td>Yes</td>\n",
       "    </tr>\n",
       "  </tbody>\n",
       "</table>\n",
       "</div>"
      ],
      "text/plain": [
       "      gender         scheduled_day       appointment_day  age   neighbourhood  \\\n",
       "31564      F  2016-05-18T12:06:56Z  2016-05-19T00:00:00Z   51  PRAIA DO CANTO   \n",
       "63460      F  2016-05-10T08:28:15Z  2016-05-10T00:00:00Z   23    SÃO BENEDITO   \n",
       "\n",
       "       scholarship  hypertension  diabetes  alcoholism  handcap  sms_received  \\\n",
       "31564            0             0         0           0        0             0   \n",
       "63460            0             0         0           0        0             0   \n",
       "\n",
       "      show  \n",
       "31564  Yes  \n",
       "63460  Yes  "
      ]
     },
     "execution_count": 22,
     "metadata": {},
     "output_type": "execute_result"
    }
   ],
   "source": [
    "df.sample(2)"
   ]
  },
  {
   "cell_type": "code",
   "execution_count": 23,
   "id": "89368555",
   "metadata": {},
   "outputs": [
    {
     "data": {
      "text/plain": [
       "scholarship     2\n",
       "hypertension    2\n",
       "diabetes        2\n",
       "alcoholism      2\n",
       "handcap         5\n",
       "sms_received    2\n",
       "dtype: int64"
      ]
     },
     "execution_count": 23,
     "metadata": {},
     "output_type": "execute_result"
    }
   ],
   "source": [
    "df.iloc[:,[5,6,7,8,9,10]].nunique()"
   ]
  },
  {
   "cell_type": "markdown",
   "id": "56804e88",
   "metadata": {},
   "source": [
    "# "
   ]
  },
  {
   "cell_type": "markdown",
   "id": "74b3ba4f",
   "metadata": {},
   "source": [
    "#####  Value observation"
   ]
  },
  {
   "cell_type": "markdown",
   "id": "38c9a7d2",
   "metadata": {},
   "source": [
    "  The unique values above was observed to be boolean by intention. Therefor the process below changes 1s and 0s to be 'Yes' and 'No"
   ]
  },
  {
   "cell_type": "code",
   "execution_count": 24,
   "id": "eeb13d36",
   "metadata": {},
   "outputs": [],
   "source": [
    "def change_01_to_str_eq(x):\n",
    "    return 'Yes' if x==1 else 'No'\n",
    "\n",
    "target_columns = df.iloc[:,[5,6,7,8,10]].columns\n",
    "for column in target_columns:\n",
    "    df[column] = df[column].apply(change_01_to_str_eq)"
   ]
  },
  {
   "cell_type": "code",
   "execution_count": 25,
   "id": "a3395e9e",
   "metadata": {},
   "outputs": [
    {
     "data": {
      "text/html": [
       "<div>\n",
       "<style scoped>\n",
       "    .dataframe tbody tr th:only-of-type {\n",
       "        vertical-align: middle;\n",
       "    }\n",
       "\n",
       "    .dataframe tbody tr th {\n",
       "        vertical-align: top;\n",
       "    }\n",
       "\n",
       "    .dataframe thead th {\n",
       "        text-align: right;\n",
       "    }\n",
       "</style>\n",
       "<table border=\"1\" class=\"dataframe\">\n",
       "  <thead>\n",
       "    <tr style=\"text-align: right;\">\n",
       "      <th></th>\n",
       "      <th>gender</th>\n",
       "      <th>scheduled_day</th>\n",
       "      <th>appointment_day</th>\n",
       "      <th>age</th>\n",
       "      <th>neighbourhood</th>\n",
       "      <th>scholarship</th>\n",
       "      <th>hypertension</th>\n",
       "      <th>diabetes</th>\n",
       "      <th>alcoholism</th>\n",
       "      <th>handcap</th>\n",
       "      <th>sms_received</th>\n",
       "      <th>show</th>\n",
       "    </tr>\n",
       "  </thead>\n",
       "  <tbody>\n",
       "    <tr>\n",
       "      <th>0</th>\n",
       "      <td>F</td>\n",
       "      <td>2016-04-29T18:38:08Z</td>\n",
       "      <td>2016-04-29T00:00:00Z</td>\n",
       "      <td>62</td>\n",
       "      <td>JARDIM DA PENHA</td>\n",
       "      <td>No</td>\n",
       "      <td>Yes</td>\n",
       "      <td>No</td>\n",
       "      <td>No</td>\n",
       "      <td>0</td>\n",
       "      <td>No</td>\n",
       "      <td>Yes</td>\n",
       "    </tr>\n",
       "    <tr>\n",
       "      <th>1</th>\n",
       "      <td>M</td>\n",
       "      <td>2016-04-29T16:08:27Z</td>\n",
       "      <td>2016-04-29T00:00:00Z</td>\n",
       "      <td>56</td>\n",
       "      <td>JARDIM DA PENHA</td>\n",
       "      <td>No</td>\n",
       "      <td>No</td>\n",
       "      <td>No</td>\n",
       "      <td>No</td>\n",
       "      <td>0</td>\n",
       "      <td>No</td>\n",
       "      <td>Yes</td>\n",
       "    </tr>\n",
       "    <tr>\n",
       "      <th>2</th>\n",
       "      <td>F</td>\n",
       "      <td>2016-04-29T16:19:04Z</td>\n",
       "      <td>2016-04-29T00:00:00Z</td>\n",
       "      <td>62</td>\n",
       "      <td>MATA DA PRAIA</td>\n",
       "      <td>No</td>\n",
       "      <td>No</td>\n",
       "      <td>No</td>\n",
       "      <td>No</td>\n",
       "      <td>0</td>\n",
       "      <td>No</td>\n",
       "      <td>Yes</td>\n",
       "    </tr>\n",
       "    <tr>\n",
       "      <th>3</th>\n",
       "      <td>F</td>\n",
       "      <td>2016-04-29T17:29:31Z</td>\n",
       "      <td>2016-04-29T00:00:00Z</td>\n",
       "      <td>8</td>\n",
       "      <td>PONTAL DE CAMBURI</td>\n",
       "      <td>No</td>\n",
       "      <td>No</td>\n",
       "      <td>No</td>\n",
       "      <td>No</td>\n",
       "      <td>0</td>\n",
       "      <td>No</td>\n",
       "      <td>Yes</td>\n",
       "    </tr>\n",
       "    <tr>\n",
       "      <th>4</th>\n",
       "      <td>F</td>\n",
       "      <td>2016-04-29T16:07:23Z</td>\n",
       "      <td>2016-04-29T00:00:00Z</td>\n",
       "      <td>56</td>\n",
       "      <td>JARDIM DA PENHA</td>\n",
       "      <td>No</td>\n",
       "      <td>Yes</td>\n",
       "      <td>Yes</td>\n",
       "      <td>No</td>\n",
       "      <td>0</td>\n",
       "      <td>No</td>\n",
       "      <td>Yes</td>\n",
       "    </tr>\n",
       "  </tbody>\n",
       "</table>\n",
       "</div>"
      ],
      "text/plain": [
       "  gender         scheduled_day       appointment_day  age      neighbourhood  \\\n",
       "0      F  2016-04-29T18:38:08Z  2016-04-29T00:00:00Z   62    JARDIM DA PENHA   \n",
       "1      M  2016-04-29T16:08:27Z  2016-04-29T00:00:00Z   56    JARDIM DA PENHA   \n",
       "2      F  2016-04-29T16:19:04Z  2016-04-29T00:00:00Z   62      MATA DA PRAIA   \n",
       "3      F  2016-04-29T17:29:31Z  2016-04-29T00:00:00Z    8  PONTAL DE CAMBURI   \n",
       "4      F  2016-04-29T16:07:23Z  2016-04-29T00:00:00Z   56    JARDIM DA PENHA   \n",
       "\n",
       "  scholarship hypertension diabetes alcoholism  handcap sms_received show  \n",
       "0          No          Yes       No         No        0           No  Yes  \n",
       "1          No           No       No         No        0           No  Yes  \n",
       "2          No           No       No         No        0           No  Yes  \n",
       "3          No           No       No         No        0           No  Yes  \n",
       "4          No          Yes      Yes         No        0           No  Yes  "
      ]
     },
     "execution_count": 25,
     "metadata": {},
     "output_type": "execute_result"
    }
   ],
   "source": [
    "df.head()"
   ]
  },
  {
   "cell_type": "code",
   "execution_count": 26,
   "id": "0be99750",
   "metadata": {},
   "outputs": [
    {
     "data": {
      "text/plain": [
       "gender             object\n",
       "scheduled_day      object\n",
       "appointment_day    object\n",
       "age                 int64\n",
       "neighbourhood      object\n",
       "scholarship        object\n",
       "hypertension       object\n",
       "diabetes           object\n",
       "alcoholism         object\n",
       "handcap             int64\n",
       "sms_received       object\n",
       "show               object\n",
       "dtype: object"
      ]
     },
     "execution_count": 26,
     "metadata": {},
     "output_type": "execute_result"
    }
   ],
   "source": [
    "df.dtypes"
   ]
  },
  {
   "cell_type": "markdown",
   "id": "6cc80b23",
   "metadata": {},
   "source": [
    "# "
   ]
  },
  {
   "cell_type": "markdown",
   "id": "e70dcd59",
   "metadata": {},
   "source": [
    "### Exploratory Data Analysis"
   ]
  },
  {
   "cell_type": "markdown",
   "id": "5fe3b3ad",
   "metadata": {},
   "source": [
    "The section below contains the exploratory analysis of the dataset. The steps are categorized based on particular question they are answering. Each question contains some data manipulation and plots that is intended to fairly answer the question."
   ]
  },
  {
   "cell_type": "markdown",
   "id": "7bfd3639",
   "metadata": {},
   "source": [
    "###### Can age be an indicator of whether a patient shows up for a medical appointment? "
   ]
  },
  {
   "cell_type": "markdown",
   "id": "03810da9",
   "metadata": {},
   "source": [
    "##### "
   ]
  },
  {
   "cell_type": "code",
   "execution_count": 27,
   "id": "1c820a58",
   "metadata": {},
   "outputs": [
    {
     "data": {
      "text/html": [
       "<div>\n",
       "<style scoped>\n",
       "    .dataframe tbody tr th:only-of-type {\n",
       "        vertical-align: middle;\n",
       "    }\n",
       "\n",
       "    .dataframe tbody tr th {\n",
       "        vertical-align: top;\n",
       "    }\n",
       "\n",
       "    .dataframe thead th {\n",
       "        text-align: right;\n",
       "    }\n",
       "</style>\n",
       "<table border=\"1\" class=\"dataframe\">\n",
       "  <thead>\n",
       "    <tr style=\"text-align: right;\">\n",
       "      <th></th>\n",
       "      <th>age</th>\n",
       "      <th>handcap</th>\n",
       "    </tr>\n",
       "  </thead>\n",
       "  <tbody>\n",
       "    <tr>\n",
       "      <th>count</th>\n",
       "      <td>110527.000000</td>\n",
       "      <td>110527.000000</td>\n",
       "    </tr>\n",
       "    <tr>\n",
       "      <th>mean</th>\n",
       "      <td>37.088874</td>\n",
       "      <td>0.022248</td>\n",
       "    </tr>\n",
       "    <tr>\n",
       "      <th>std</th>\n",
       "      <td>23.110205</td>\n",
       "      <td>0.161543</td>\n",
       "    </tr>\n",
       "    <tr>\n",
       "      <th>min</th>\n",
       "      <td>-1.000000</td>\n",
       "      <td>0.000000</td>\n",
       "    </tr>\n",
       "    <tr>\n",
       "      <th>25%</th>\n",
       "      <td>18.000000</td>\n",
       "      <td>0.000000</td>\n",
       "    </tr>\n",
       "    <tr>\n",
       "      <th>50%</th>\n",
       "      <td>37.000000</td>\n",
       "      <td>0.000000</td>\n",
       "    </tr>\n",
       "    <tr>\n",
       "      <th>75%</th>\n",
       "      <td>55.000000</td>\n",
       "      <td>0.000000</td>\n",
       "    </tr>\n",
       "    <tr>\n",
       "      <th>max</th>\n",
       "      <td>115.000000</td>\n",
       "      <td>4.000000</td>\n",
       "    </tr>\n",
       "  </tbody>\n",
       "</table>\n",
       "</div>"
      ],
      "text/plain": [
       "                 age        handcap\n",
       "count  110527.000000  110527.000000\n",
       "mean       37.088874       0.022248\n",
       "std        23.110205       0.161543\n",
       "min        -1.000000       0.000000\n",
       "25%        18.000000       0.000000\n",
       "50%        37.000000       0.000000\n",
       "75%        55.000000       0.000000\n",
       "max       115.000000       4.000000"
      ]
     },
     "execution_count": 27,
     "metadata": {},
     "output_type": "execute_result"
    }
   ],
   "source": [
    "df.describe()"
   ]
  },
  {
   "cell_type": "code",
   "execution_count": 28,
   "id": "fffa20a2",
   "metadata": {},
   "outputs": [
    {
     "data": {
      "text/html": [
       "<div>\n",
       "<style scoped>\n",
       "    .dataframe tbody tr th:only-of-type {\n",
       "        vertical-align: middle;\n",
       "    }\n",
       "\n",
       "    .dataframe tbody tr th {\n",
       "        vertical-align: top;\n",
       "    }\n",
       "\n",
       "    .dataframe thead th {\n",
       "        text-align: right;\n",
       "    }\n",
       "</style>\n",
       "<table border=\"1\" class=\"dataframe\">\n",
       "  <thead>\n",
       "    <tr style=\"text-align: right;\">\n",
       "      <th></th>\n",
       "      <th>gender</th>\n",
       "      <th>scheduled_day</th>\n",
       "      <th>appointment_day</th>\n",
       "      <th>age</th>\n",
       "      <th>neighbourhood</th>\n",
       "      <th>scholarship</th>\n",
       "      <th>hypertension</th>\n",
       "      <th>diabetes</th>\n",
       "      <th>alcoholism</th>\n",
       "      <th>handcap</th>\n",
       "      <th>sms_received</th>\n",
       "      <th>show</th>\n",
       "    </tr>\n",
       "  </thead>\n",
       "  <tbody>\n",
       "  </tbody>\n",
       "</table>\n",
       "</div>"
      ],
      "text/plain": [
       "Empty DataFrame\n",
       "Columns: [gender, scheduled_day, appointment_day, age, neighbourhood, scholarship, hypertension, diabetes, alcoholism, handcap, sms_received, show]\n",
       "Index: []"
      ]
     },
     "execution_count": 28,
     "metadata": {},
     "output_type": "execute_result"
    }
   ],
   "source": [
    "# remove abnormal age\n",
    "age_df = df.drop(df[df.age<=-1].index,axis=0)\n",
    "age_df[age_df.age<=-1]"
   ]
  },
  {
   "cell_type": "code",
   "execution_count": 31,
   "id": "9c5be106",
   "metadata": {},
   "outputs": [
    {
     "data": {
      "image/png": "[encoded data removed]",
      "text/plain": [
       "<Figure size 576x360 with 1 Axes>"
      ]
     },
     "metadata": {
      "needs_background": "light"
     },
     "output_type": "display_data"
    }
   ],
   "source": [
    "age_df['age'].hist(figsize=(8,5),bins=10);"
   ]
  },
  {
   "cell_type": "code",
   "execution_count": 31,
   "id": "8a1a3bfe",
   "metadata": {},
   "outputs": [
    {
     "data": {
      "text/plain": [
       "array([ 62,  56,   8,  76,  23,  39,  21,  19,  30,  29,  22,  28,  54,\n",
       "        15,  50,  40,  46,   4,  13,  65,  45,  51,  32,  12,  61,  38,\n",
       "        79,  18,  63,  64,  85,  59,  55,  71,  49,  78,  31,  58,  27,\n",
       "         6,   2,  11,   7,   0,   3,   1,  69,  68,  60,  67,  36,  10,\n",
       "        35,  20,  26,  34,  33,  16,  42,   5,  47,  17,  41,  44,  37,\n",
       "        24,  66,  77,  81,  70,  53,  75,  73,  52,  74,  43,  89,  57,\n",
       "        14,   9,  48,  83,  72,  25,  80,  87,  88,  84,  82,  90,  94,\n",
       "        86,  91,  98,  92,  96,  93,  95,  97, 102, 115, 100,  99],\n",
       "      dtype=int64)"
      ]
     },
     "execution_count": 31,
     "metadata": {},
     "output_type": "execute_result"
    }
   ],
   "source": [
    "age_df['age'].unique()"
   ]
  },
  {
   "cell_type": "markdown",
   "id": "f1399e21",
   "metadata": {},
   "source": [
    " "
   ]
  },
  {
   "cell_type": "markdown",
   "id": "39c8d699",
   "metadata": {},
   "source": [
    "##### Grouping Age range"
   ]
  },
  {
   "cell_type": "markdown",
   "id": "4574f5b6",
   "metadata": {},
   "source": [
    "To simplify analysis on age, the age variable is classified in a new column named 'age_label'"
   ]
  },
  {
   "cell_type": "code",
   "execution_count": 32,
   "id": "77747f64",
   "metadata": {},
   "outputs": [
    {
     "data": {
      "text/html": [
       "<div>\n",
       "<style scoped>\n",
       "    .dataframe tbody tr th:only-of-type {\n",
       "        vertical-align: middle;\n",
       "    }\n",
       "\n",
       "    .dataframe tbody tr th {\n",
       "        vertical-align: top;\n",
       "    }\n",
       "\n",
       "    .dataframe thead th {\n",
       "        text-align: right;\n",
       "    }\n",
       "</style>\n",
       "<table border=\"1\" class=\"dataframe\">\n",
       "  <thead>\n",
       "    <tr style=\"text-align: right;\">\n",
       "      <th></th>\n",
       "      <th>gender</th>\n",
       "      <th>scheduled_day</th>\n",
       "      <th>appointment_day</th>\n",
       "      <th>age</th>\n",
       "      <th>neighbourhood</th>\n",
       "      <th>scholarship</th>\n",
       "      <th>hypertension</th>\n",
       "      <th>diabetes</th>\n",
       "      <th>alcoholism</th>\n",
       "      <th>handcap</th>\n",
       "      <th>sms_received</th>\n",
       "      <th>show</th>\n",
       "      <th>age_label</th>\n",
       "    </tr>\n",
       "  </thead>\n",
       "  <tbody>\n",
       "    <tr>\n",
       "      <th>67891</th>\n",
       "      <td>F</td>\n",
       "      <td>2016-05-16T13:54:37Z</td>\n",
       "      <td>2016-05-20T00:00:00Z</td>\n",
       "      <td>11</td>\n",
       "      <td>JARDIM CAMBURI</td>\n",
       "      <td>No</td>\n",
       "      <td>No</td>\n",
       "      <td>No</td>\n",
       "      <td>No</td>\n",
       "      <td>0</td>\n",
       "      <td>No</td>\n",
       "      <td>Yes</td>\n",
       "      <td>child</td>\n",
       "    </tr>\n",
       "    <tr>\n",
       "      <th>58111</th>\n",
       "      <td>M</td>\n",
       "      <td>2016-05-09T16:30:06Z</td>\n",
       "      <td>2016-05-12T00:00:00Z</td>\n",
       "      <td>36</td>\n",
       "      <td>JARDIM DA PENHA</td>\n",
       "      <td>No</td>\n",
       "      <td>No</td>\n",
       "      <td>No</td>\n",
       "      <td>No</td>\n",
       "      <td>0</td>\n",
       "      <td>No</td>\n",
       "      <td>Yes</td>\n",
       "      <td>adult</td>\n",
       "    </tr>\n",
       "  </tbody>\n",
       "</table>\n",
       "</div>"
      ],
      "text/plain": [
       "      gender         scheduled_day       appointment_day  age  \\\n",
       "67891      F  2016-05-16T13:54:37Z  2016-05-20T00:00:00Z   11   \n",
       "58111      M  2016-05-09T16:30:06Z  2016-05-12T00:00:00Z   36   \n",
       "\n",
       "         neighbourhood scholarship hypertension diabetes alcoholism  handcap  \\\n",
       "67891   JARDIM CAMBURI          No           No       No         No        0   \n",
       "58111  JARDIM DA PENHA          No           No       No         No        0   \n",
       "\n",
       "      sms_received show age_label  \n",
       "67891           No  Yes     child  \n",
       "58111           No  Yes     adult  "
      ]
     },
     "execution_count": 32,
     "metadata": {},
     "output_type": "execute_result"
    }
   ],
   "source": [
    "def group_age(x):\n",
    "    if x<=14:\n",
    "        return 'child'\n",
    "    if x>14 and x<=24:\n",
    "        return 'youth'\n",
    "    if x > 24 and x <= 64:\n",
    "        return 'adult'\n",
    "    if x>64:\n",
    "        return 'senior'\n",
    "\n",
    "age_df['age_label'] = age_df['age'].apply(group_age)\n",
    "age_df.sample(2)"
   ]
  },
  {
   "cell_type": "markdown",
   "id": "2568892c",
   "metadata": {},
   "source": [
    "# "
   ]
  },
  {
   "cell_type": "markdown",
   "id": "ed8bc5e4",
   "metadata": {},
   "source": [
    "##### Percentage of 'showing up' by the different age groups"
   ]
  },
  {
   "cell_type": "markdown",
   "id": "c683b3c7",
   "metadata": {},
   "source": [
    "Below is the total observations of each age group"
   ]
  },
  {
   "cell_type": "code",
   "execution_count": 41,
   "id": "a9302e5f",
   "metadata": {},
   "outputs": [
    {
     "data": {
      "text/plain": [
       "{'adult': 58857, 'child': 23257, 'senior': 14402, 'youth': 14010}"
      ]
     },
     "execution_count": 41,
     "metadata": {},
     "output_type": "execute_result"
    }
   ],
   "source": [
    "#totals in age groups\n",
    "\n",
    "labels = age_df['age_label'].unique()\n",
    "group_totals = {label: age_df[age_df['age_label']==\n",
    "label]['age'].size for label in labels}     \n",
    "group_totals"
   ]
  },
  {
   "cell_type": "code",
   "execution_count": 44,
   "id": "a408cde9",
   "metadata": {},
   "outputs": [],
   "source": [
    "## Group dataset of the age groups\n",
    "age_group_df = age_df.groupby(['show', 'age_label'],as_index=False)['age'].count()\n",
    "\n",
    "# rename the column\n",
    "age_group_df.rename(columns = {'age':'ind_count'},inplace=True)\n",
    "\n",
    "#calcultae proportion in terms of percentage \n",
    "def calc_prop(x):\n",
    "    return round((x['ind_count']/group_totals[x['age_label']])*100,2) #....Doubt\n",
    "\n",
    "age_group_df['%_of_total'] = age_group_df.apply(calc_prop,axis=1)\n",
    "\n",
    "\n",
    "#Filter df to patient that 'show'\n",
    "age_group_show_df = age_group_df[age_group_df['show'] == 'Yes']"
   ]
  },
  {
   "cell_type": "code",
   "execution_count": 45,
   "id": "ebcb6814",
   "metadata": {},
   "outputs": [
    {
     "data": {
      "text/html": [
       "<div>\n",
       "<style scoped>\n",
       "    .dataframe tbody tr th:only-of-type {\n",
       "        vertical-align: middle;\n",
       "    }\n",
       "\n",
       "    .dataframe tbody tr th {\n",
       "        vertical-align: top;\n",
       "    }\n",
       "\n",
       "    .dataframe thead th {\n",
       "        text-align: right;\n",
       "    }\n",
       "</style>\n",
       "<table border=\"1\" class=\"dataframe\">\n",
       "  <thead>\n",
       "    <tr style=\"text-align: right;\">\n",
       "      <th></th>\n",
       "      <th>show</th>\n",
       "      <th>age_label</th>\n",
       "      <th>ind_count</th>\n",
       "      <th>%_of_total</th>\n",
       "    </tr>\n",
       "  </thead>\n",
       "  <tbody>\n",
       "    <tr>\n",
       "      <th>0</th>\n",
       "      <td>No</td>\n",
       "      <td>adult</td>\n",
       "      <td>11620</td>\n",
       "      <td>19.74</td>\n",
       "    </tr>\n",
       "    <tr>\n",
       "      <th>1</th>\n",
       "      <td>No</td>\n",
       "      <td>child</td>\n",
       "      <td>4926</td>\n",
       "      <td>21.18</td>\n",
       "    </tr>\n",
       "    <tr>\n",
       "      <th>2</th>\n",
       "      <td>No</td>\n",
       "      <td>senior</td>\n",
       "      <td>2233</td>\n",
       "      <td>15.50</td>\n",
       "    </tr>\n",
       "    <tr>\n",
       "      <th>3</th>\n",
       "      <td>No</td>\n",
       "      <td>youth</td>\n",
       "      <td>3540</td>\n",
       "      <td>25.27</td>\n",
       "    </tr>\n",
       "    <tr>\n",
       "      <th>4</th>\n",
       "      <td>Yes</td>\n",
       "      <td>adult</td>\n",
       "      <td>47237</td>\n",
       "      <td>80.26</td>\n",
       "    </tr>\n",
       "    <tr>\n",
       "      <th>5</th>\n",
       "      <td>Yes</td>\n",
       "      <td>child</td>\n",
       "      <td>18331</td>\n",
       "      <td>78.82</td>\n",
       "    </tr>\n",
       "    <tr>\n",
       "      <th>6</th>\n",
       "      <td>Yes</td>\n",
       "      <td>senior</td>\n",
       "      <td>12169</td>\n",
       "      <td>84.50</td>\n",
       "    </tr>\n",
       "    <tr>\n",
       "      <th>7</th>\n",
       "      <td>Yes</td>\n",
       "      <td>youth</td>\n",
       "      <td>10470</td>\n",
       "      <td>74.73</td>\n",
       "    </tr>\n",
       "  </tbody>\n",
       "</table>\n",
       "</div>"
      ],
      "text/plain": [
       "  show age_label  ind_count  %_of_total\n",
       "0   No     adult      11620       19.74\n",
       "1   No     child       4926       21.18\n",
       "2   No    senior       2233       15.50\n",
       "3   No     youth       3540       25.27\n",
       "4  Yes     adult      47237       80.26\n",
       "5  Yes     child      18331       78.82\n",
       "6  Yes    senior      12169       84.50\n",
       "7  Yes     youth      10470       74.73"
      ]
     },
     "execution_count": 45,
     "metadata": {},
     "output_type": "execute_result"
    }
   ],
   "source": [
    "age_group_df"
   ]
  },
  {
   "cell_type": "code",
   "execution_count": 46,
   "id": "c2b1ecd8",
   "metadata": {},
   "outputs": [
    {
     "data": {
      "image/png": "[encoded data removed]",
      "text/plain": [
       "<Figure size 720x432 with 1 Axes>"
      ]
     },
     "metadata": {
      "needs_background": "light"
     },
     "output_type": "display_data"
    }
   ],
   "source": [
    "plt.figure(figsize = (10,6))\n",
    "plt.ylim(0,100)\n",
    "\n",
    "ax = sns.barplot(x = 'age_label',y = '%_of_total',hue='show',\n",
    "        data = age_group_df,palette='hls',\n",
    "                 order = ['child','youth','adult','senior'],\n",
    "                 capsize = 0.05, saturation = 8)\n",
    "plt.xlabel('age group')\n",
    "plt.ylabel('show up percentage')\n",
    "plt.title('Percent proportion of appointment show up among age groups')\n",
    "plt.grid(axis = 'y')\n",
    "\n",
    "for i in ax.containers:\n",
    "          ax.bar_label(i)\n",
    "\n",
    "plt.show()"
   ]
  },
  {
   "cell_type": "markdown",
   "id": "dacf7d46",
   "metadata": {},
   "source": [
    "# "
   ]
  },
  {
   "cell_type": "markdown",
   "id": "b89123c4",
   "metadata": {},
   "source": [
    "##### can the gender of a patient be a determinant of the likelihood of a pateint showing up for a medical appointment"
   ]
  },
  {
   "cell_type": "markdown",
   "id": "56ef4b93",
   "metadata": {},
   "source": [
    "###### These question explores the likelihood of the impact of gender as a predictor of a patient showing up for appointment."
   ]
  },
  {
   "cell_type": "code",
   "execution_count": 43,
   "id": "ec642ef5",
   "metadata": {},
   "outputs": [
    {
     "data": {
      "text/html": [
       "<div>\n",
       "<style scoped>\n",
       "    .dataframe tbody tr th:only-of-type {\n",
       "        vertical-align: middle;\n",
       "    }\n",
       "\n",
       "    .dataframe tbody tr th {\n",
       "        vertical-align: top;\n",
       "    }\n",
       "\n",
       "    .dataframe thead th {\n",
       "        text-align: right;\n",
       "    }\n",
       "</style>\n",
       "<table border=\"1\" class=\"dataframe\">\n",
       "  <thead>\n",
       "    <tr style=\"text-align: right;\">\n",
       "      <th></th>\n",
       "      <th>gender</th>\n",
       "      <th>show</th>\n",
       "      <th>count</th>\n",
       "    </tr>\n",
       "  </thead>\n",
       "  <tbody>\n",
       "    <tr>\n",
       "      <th>0</th>\n",
       "      <td>F</td>\n",
       "      <td>No</td>\n",
       "      <td>14594</td>\n",
       "    </tr>\n",
       "    <tr>\n",
       "      <th>1</th>\n",
       "      <td>F</td>\n",
       "      <td>Yes</td>\n",
       "      <td>57246</td>\n",
       "    </tr>\n",
       "    <tr>\n",
       "      <th>2</th>\n",
       "      <td>M</td>\n",
       "      <td>No</td>\n",
       "      <td>7725</td>\n",
       "    </tr>\n",
       "    <tr>\n",
       "      <th>3</th>\n",
       "      <td>M</td>\n",
       "      <td>Yes</td>\n",
       "      <td>30962</td>\n",
       "    </tr>\n",
       "  </tbody>\n",
       "</table>\n",
       "</div>"
      ],
      "text/plain": [
       "  gender show  count\n",
       "0      F   No  14594\n",
       "1      F  Yes  57246\n",
       "2      M   No   7725\n",
       "3      M  Yes  30962"
      ]
     },
     "execution_count": 43,
     "metadata": {},
     "output_type": "execute_result"
    }
   ],
   "source": [
    "#Gender Totals\n",
    "\n",
    "total_male = df[df['gender']=='M']['gender'].size\n",
    "total_female = df[df['gender']=='F']['gender'].size\n",
    "\n",
    "gender_grouped_df = df.groupby(['gender','show'],as_index\n",
    "    = False).count().iloc[:,:3]\n",
    "\n",
    "gender_grouped_df.rename(columns={'scheduled_day':'count'},\n",
    "                        inplace = True)\n",
    "\n",
    "gender_grouped_df"
   ]
  },
  {
   "cell_type": "code",
   "execution_count": 44,
   "id": "972de04d",
   "metadata": {},
   "outputs": [
    {
     "data": {
      "text/html": [
       "<div>\n",
       "<style scoped>\n",
       "    .dataframe tbody tr th:only-of-type {\n",
       "        vertical-align: middle;\n",
       "    }\n",
       "\n",
       "    .dataframe tbody tr th {\n",
       "        vertical-align: top;\n",
       "    }\n",
       "\n",
       "    .dataframe thead th {\n",
       "        text-align: right;\n",
       "    }\n",
       "</style>\n",
       "<table border=\"1\" class=\"dataframe\">\n",
       "  <thead>\n",
       "    <tr style=\"text-align: right;\">\n",
       "      <th></th>\n",
       "      <th>gender</th>\n",
       "      <th>show</th>\n",
       "      <th>count</th>\n",
       "      <th>%_of_total</th>\n",
       "    </tr>\n",
       "  </thead>\n",
       "  <tbody>\n",
       "    <tr>\n",
       "      <th>0</th>\n",
       "      <td>Female</td>\n",
       "      <td>No</td>\n",
       "      <td>14594</td>\n",
       "      <td>20.31</td>\n",
       "    </tr>\n",
       "    <tr>\n",
       "      <th>1</th>\n",
       "      <td>Female</td>\n",
       "      <td>Yes</td>\n",
       "      <td>57246</td>\n",
       "      <td>79.69</td>\n",
       "    </tr>\n",
       "    <tr>\n",
       "      <th>2</th>\n",
       "      <td>Male</td>\n",
       "      <td>No</td>\n",
       "      <td>7725</td>\n",
       "      <td>19.97</td>\n",
       "    </tr>\n",
       "    <tr>\n",
       "      <th>3</th>\n",
       "      <td>Male</td>\n",
       "      <td>Yes</td>\n",
       "      <td>30962</td>\n",
       "      <td>80.03</td>\n",
       "    </tr>\n",
       "  </tbody>\n",
       "</table>\n",
       "</div>"
      ],
      "text/plain": [
       "   gender show  count  %_of_total\n",
       "0  Female   No  14594       20.31\n",
       "1  Female  Yes  57246       79.69\n",
       "2    Male   No   7725       19.97\n",
       "3    Male  Yes  30962       80.03"
      ]
     },
     "execution_count": 44,
     "metadata": {},
     "output_type": "execute_result"
    }
   ],
   "source": [
    "gender_grouped_df['%_of_total'] = gender_grouped_df.apply(\n",
    "lambda x: round((x['count']/total_female)* 100,2)\n",
    "if x['gender']=='F' else round ((x['count']/total_male)*\n",
    "                               100,2),axis=1)\n",
    "\n",
    "#make gender label more intuitive\n",
    "gender_grouped_df['gender'] = gender_grouped_df['gender'].apply(lambda x: 'Female' if x == 'F' else 'Male')\n",
    "gender_grouped_df"
   ]
  },
  {
   "cell_type": "code",
   "execution_count": 45,
   "id": "39f613d6",
   "metadata": {},
   "outputs": [
    {
     "data": {
      "image/png": "[encoded data removed]",
      "text/plain": [
       "<Figure size 720x432 with 1 Axes>"
      ]
     },
     "metadata": {
      "needs_background": "light"
     },
     "output_type": "display_data"
    }
   ],
   "source": [
    "#plot\n",
    "\n",
    "plt.figure(figsize=(10,6))\n",
    "plt.ylim(0,100)\n",
    "\n",
    "ax = sns.barplot(x = 'gender',y = '%_of_total',hue = 'show'\n",
    ",data = gender_grouped_df, palette ='hls',capsize=0.05,\n",
    "                saturation =8)\n",
    "\n",
    "plt.xlabel('Gender')\n",
    "plt.ylabel('Show up percentage')\n",
    "plt.title('percent proportion of appointment show up by gender')\n",
    "plt.grid(axis = 'y')\n",
    "\n",
    "for i in ax.containers:\n",
    "          ax.bar_label(i,)\n",
    "plt.show()"
   ]
  },
  {
   "cell_type": "markdown",
   "id": "c5af7a1f",
   "metadata": {},
   "source": [
    "# "
   ]
  },
  {
   "cell_type": "markdown",
   "id": "3bda52d7",
   "metadata": {},
   "source": [
    "##### Does the appointment day of the week determine if a pateint will show up ?"
   ]
  },
  {
   "cell_type": "markdown",
   "id": "b2f29fde",
   "metadata": {},
   "source": [
    "These question seeks to explore the likely impact of the \n",
    "day of the week of the appointment on the likelihood of the\n",
    "pateint showing up. To acheive this, another column containing\n",
    "day of the week value was added"
   ]
  },
  {
   "cell_type": "markdown",
   "id": "bb20e2b1",
   "metadata": {},
   "source": [
    " "
   ]
  },
  {
   "cell_type": "code",
   "execution_count": 47,
   "id": "07c5a481",
   "metadata": {},
   "outputs": [],
   "source": [
    "# Add weekday column"
   ]
  },
  {
   "cell_type": "code",
   "execution_count": 48,
   "id": "2c23b60c",
   "metadata": {},
   "outputs": [
    {
     "data": {
      "text/html": [
       "<div>\n",
       "<style scoped>\n",
       "    .dataframe tbody tr th:only-of-type {\n",
       "        vertical-align: middle;\n",
       "    }\n",
       "\n",
       "    .dataframe tbody tr th {\n",
       "        vertical-align: top;\n",
       "    }\n",
       "\n",
       "    .dataframe thead th {\n",
       "        text-align: right;\n",
       "    }\n",
       "</style>\n",
       "<table border=\"1\" class=\"dataframe\">\n",
       "  <thead>\n",
       "    <tr style=\"text-align: right;\">\n",
       "      <th></th>\n",
       "      <th>gender</th>\n",
       "      <th>scheduled_day</th>\n",
       "      <th>appointment_day</th>\n",
       "      <th>age</th>\n",
       "      <th>neighbourhood</th>\n",
       "      <th>scholarship</th>\n",
       "      <th>hypertension</th>\n",
       "      <th>diabetes</th>\n",
       "      <th>alcoholism</th>\n",
       "      <th>handcap</th>\n",
       "      <th>sms_received</th>\n",
       "      <th>show</th>\n",
       "    </tr>\n",
       "  </thead>\n",
       "  <tbody>\n",
       "    <tr>\n",
       "      <th>0</th>\n",
       "      <td>F</td>\n",
       "      <td>2016-04-29T18:38:08Z</td>\n",
       "      <td>2016-04-29T00:00:00Z</td>\n",
       "      <td>62</td>\n",
       "      <td>JARDIM DA PENHA</td>\n",
       "      <td>No</td>\n",
       "      <td>Yes</td>\n",
       "      <td>No</td>\n",
       "      <td>No</td>\n",
       "      <td>0</td>\n",
       "      <td>No</td>\n",
       "      <td>Yes</td>\n",
       "    </tr>\n",
       "    <tr>\n",
       "      <th>1</th>\n",
       "      <td>M</td>\n",
       "      <td>2016-04-29T16:08:27Z</td>\n",
       "      <td>2016-04-29T00:00:00Z</td>\n",
       "      <td>56</td>\n",
       "      <td>JARDIM DA PENHA</td>\n",
       "      <td>No</td>\n",
       "      <td>No</td>\n",
       "      <td>No</td>\n",
       "      <td>No</td>\n",
       "      <td>0</td>\n",
       "      <td>No</td>\n",
       "      <td>Yes</td>\n",
       "    </tr>\n",
       "  </tbody>\n",
       "</table>\n",
       "</div>"
      ],
      "text/plain": [
       "  gender         scheduled_day       appointment_day  age    neighbourhood  \\\n",
       "0      F  2016-04-29T18:38:08Z  2016-04-29T00:00:00Z   62  JARDIM DA PENHA   \n",
       "1      M  2016-04-29T16:08:27Z  2016-04-29T00:00:00Z   56  JARDIM DA PENHA   \n",
       "\n",
       "  scholarship hypertension diabetes alcoholism  handcap sms_received show  \n",
       "0          No          Yes       No         No        0           No  Yes  \n",
       "1          No           No       No         No        0           No  Yes  "
      ]
     },
     "execution_count": 48,
     "metadata": {},
     "output_type": "execute_result"
    }
   ],
   "source": [
    "df.head(2)"
   ]
  },
  {
   "cell_type": "code",
   "execution_count": 49,
   "id": "5e966aec",
   "metadata": {},
   "outputs": [
    {
     "data": {
      "text/plain": [
       "'Friday'"
      ]
     },
     "execution_count": 49,
     "metadata": {},
     "output_type": "execute_result"
    }
   ],
   "source": [
    "def convert_day_name(d):\n",
    "    '''\n",
    "    This function converts a date type string to a day of week\n",
    "       return str --> eg 'Friday'\n",
    "    '''\n",
    "    new_date = pd.Timestamp(d)\n",
    "    return new_date.day_name()\n",
    "\n",
    "convert_day_name('2016-04-29T18:38:08Z')"
   ]
  },
  {
   "cell_type": "code",
   "execution_count": 50,
   "id": "df0441a3",
   "metadata": {},
   "outputs": [
    {
     "data": {
      "text/html": [
       "<div>\n",
       "<style scoped>\n",
       "    .dataframe tbody tr th:only-of-type {\n",
       "        vertical-align: middle;\n",
       "    }\n",
       "\n",
       "    .dataframe tbody tr th {\n",
       "        vertical-align: top;\n",
       "    }\n",
       "\n",
       "    .dataframe thead th {\n",
       "        text-align: right;\n",
       "    }\n",
       "</style>\n",
       "<table border=\"1\" class=\"dataframe\">\n",
       "  <thead>\n",
       "    <tr style=\"text-align: right;\">\n",
       "      <th></th>\n",
       "      <th>gender</th>\n",
       "      <th>scheduled_day</th>\n",
       "      <th>appointment_day</th>\n",
       "      <th>age</th>\n",
       "      <th>neighbourhood</th>\n",
       "      <th>scholarship</th>\n",
       "      <th>hypertension</th>\n",
       "      <th>diabetes</th>\n",
       "      <th>alcoholism</th>\n",
       "      <th>handcap</th>\n",
       "      <th>sms_received</th>\n",
       "      <th>show</th>\n",
       "      <th>ap_day_of_week</th>\n",
       "    </tr>\n",
       "  </thead>\n",
       "  <tbody>\n",
       "    <tr>\n",
       "      <th>62615</th>\n",
       "      <td>M</td>\n",
       "      <td>2016-05-31T17:50:15Z</td>\n",
       "      <td>2016-05-31T00:00:00Z</td>\n",
       "      <td>62</td>\n",
       "      <td>JARDIM CAMBURI</td>\n",
       "      <td>No</td>\n",
       "      <td>No</td>\n",
       "      <td>No</td>\n",
       "      <td>No</td>\n",
       "      <td>0</td>\n",
       "      <td>No</td>\n",
       "      <td>Yes</td>\n",
       "      <td>Tuesday</td>\n",
       "    </tr>\n",
       "    <tr>\n",
       "      <th>74965</th>\n",
       "      <td>M</td>\n",
       "      <td>2016-05-04T08:03:04Z</td>\n",
       "      <td>2016-05-16T00:00:00Z</td>\n",
       "      <td>39</td>\n",
       "      <td>ILHA DAS CAIEIRAS</td>\n",
       "      <td>No</td>\n",
       "      <td>No</td>\n",
       "      <td>No</td>\n",
       "      <td>No</td>\n",
       "      <td>0</td>\n",
       "      <td>No</td>\n",
       "      <td>No</td>\n",
       "      <td>Monday</td>\n",
       "    </tr>\n",
       "  </tbody>\n",
       "</table>\n",
       "</div>"
      ],
      "text/plain": [
       "      gender         scheduled_day       appointment_day  age  \\\n",
       "62615      M  2016-05-31T17:50:15Z  2016-05-31T00:00:00Z   62   \n",
       "74965      M  2016-05-04T08:03:04Z  2016-05-16T00:00:00Z   39   \n",
       "\n",
       "           neighbourhood scholarship hypertension diabetes alcoholism  \\\n",
       "62615     JARDIM CAMBURI          No           No       No         No   \n",
       "74965  ILHA DAS CAIEIRAS          No           No       No         No   \n",
       "\n",
       "       handcap sms_received show ap_day_of_week  \n",
       "62615        0           No  Yes        Tuesday  \n",
       "74965        0           No   No         Monday  "
      ]
     },
     "execution_count": 50,
     "metadata": {},
     "output_type": "execute_result"
    }
   ],
   "source": [
    "# Create day of the week column\n",
    "df['ap_day_of_week'] = df.appointment_day.apply(convert_day_name)\n",
    "\n",
    "df.sample(2)"
   ]
  },
  {
   "cell_type": "code",
   "execution_count": null,
   "id": "96127354",
   "metadata": {},
   "outputs": [],
   "source": []
  },
  {
   "cell_type": "code",
   "execution_count": 51,
   "id": "82d4bd1b",
   "metadata": {},
   "outputs": [
    {
     "data": {
      "text/html": [
       "<div>\n",
       "<style scoped>\n",
       "    .dataframe tbody tr th:only-of-type {\n",
       "        vertical-align: middle;\n",
       "    }\n",
       "\n",
       "    .dataframe tbody tr th {\n",
       "        vertical-align: top;\n",
       "    }\n",
       "\n",
       "    .dataframe thead th {\n",
       "        text-align: right;\n",
       "    }\n",
       "</style>\n",
       "<table border=\"1\" class=\"dataframe\">\n",
       "  <thead>\n",
       "    <tr style=\"text-align: right;\">\n",
       "      <th></th>\n",
       "      <th>ap_day_of_week</th>\n",
       "      <th>show</th>\n",
       "      <th>show_count</th>\n",
       "    </tr>\n",
       "  </thead>\n",
       "  <tbody>\n",
       "    <tr>\n",
       "      <th>0</th>\n",
       "      <td>Friday</td>\n",
       "      <td>No</td>\n",
       "      <td>4037</td>\n",
       "    </tr>\n",
       "    <tr>\n",
       "      <th>1</th>\n",
       "      <td>Friday</td>\n",
       "      <td>Yes</td>\n",
       "      <td>14982</td>\n",
       "    </tr>\n",
       "    <tr>\n",
       "      <th>2</th>\n",
       "      <td>Monday</td>\n",
       "      <td>No</td>\n",
       "      <td>4690</td>\n",
       "    </tr>\n",
       "    <tr>\n",
       "      <th>3</th>\n",
       "      <td>Monday</td>\n",
       "      <td>Yes</td>\n",
       "      <td>18025</td>\n",
       "    </tr>\n",
       "    <tr>\n",
       "      <th>4</th>\n",
       "      <td>Saturday</td>\n",
       "      <td>No</td>\n",
       "      <td>9</td>\n",
       "    </tr>\n",
       "    <tr>\n",
       "      <th>5</th>\n",
       "      <td>Saturday</td>\n",
       "      <td>Yes</td>\n",
       "      <td>30</td>\n",
       "    </tr>\n",
       "    <tr>\n",
       "      <th>6</th>\n",
       "      <td>Thursday</td>\n",
       "      <td>No</td>\n",
       "      <td>3338</td>\n",
       "    </tr>\n",
       "    <tr>\n",
       "      <th>7</th>\n",
       "      <td>Thursday</td>\n",
       "      <td>Yes</td>\n",
       "      <td>13909</td>\n",
       "    </tr>\n",
       "    <tr>\n",
       "      <th>8</th>\n",
       "      <td>Tuesday</td>\n",
       "      <td>No</td>\n",
       "      <td>5152</td>\n",
       "    </tr>\n",
       "    <tr>\n",
       "      <th>9</th>\n",
       "      <td>Tuesday</td>\n",
       "      <td>Yes</td>\n",
       "      <td>20488</td>\n",
       "    </tr>\n",
       "    <tr>\n",
       "      <th>10</th>\n",
       "      <td>Wednesday</td>\n",
       "      <td>No</td>\n",
       "      <td>5093</td>\n",
       "    </tr>\n",
       "    <tr>\n",
       "      <th>11</th>\n",
       "      <td>Wednesday</td>\n",
       "      <td>Yes</td>\n",
       "      <td>20774</td>\n",
       "    </tr>\n",
       "  </tbody>\n",
       "</table>\n",
       "</div>"
      ],
      "text/plain": [
       "   ap_day_of_week show  show_count\n",
       "0          Friday   No        4037\n",
       "1          Friday  Yes       14982\n",
       "2          Monday   No        4690\n",
       "3          Monday  Yes       18025\n",
       "4        Saturday   No           9\n",
       "5        Saturday  Yes          30\n",
       "6        Thursday   No        3338\n",
       "7        Thursday  Yes       13909\n",
       "8         Tuesday   No        5152\n",
       "9         Tuesday  Yes       20488\n",
       "10      Wednesday   No        5093\n",
       "11      Wednesday  Yes       20774"
      ]
     },
     "execution_count": 51,
     "metadata": {},
     "output_type": "execute_result"
    }
   ],
   "source": [
    "#Group by appoinment day of the week\n",
    "\n",
    "day_group_df = df.groupby(['ap_day_of_week','show'],\n",
    "        as_index = False)['age'].count()\n",
    "\n",
    "#filter to only appointments that show\n",
    "# day_group_df = day_group_df[day_group_df.show=='Yes']\n",
    "\n",
    "#rename 'age'\n",
    "day_group_df.rename(columns = {'age':'show_count'},\n",
    "                   inplace = True)\n",
    "\n",
    "day_group_df"
   ]
  },
  {
   "cell_type": "markdown",
   "id": "7dffe655",
   "metadata": {},
   "source": [
    "# "
   ]
  },
  {
   "cell_type": "markdown",
   "id": "9bf31051",
   "metadata": {},
   "source": [
    "Total rows for each of day of the week"
   ]
  },
  {
   "cell_type": "code",
   "execution_count": 52,
   "id": "f9de99a0",
   "metadata": {},
   "outputs": [
    {
     "data": {
      "text/plain": [
       "{'Friday': 19019,\n",
       " 'Monday': 22715,\n",
       " 'Saturday': 39,\n",
       " 'Thursday': 17247,\n",
       " 'Tuesday': 25640,\n",
       " 'Wednesday': 25867}"
      ]
     },
     "execution_count": 52,
     "metadata": {},
     "output_type": "execute_result"
    }
   ],
   "source": [
    "day_totals = {day:df[df['ap_day_of_week']==day]['age'].size\n",
    "        for day in day_group_df['ap_day_of_week']}\n",
    "\n",
    "day_totals"
   ]
  },
  {
   "cell_type": "code",
   "execution_count": 57,
   "id": "e2c2ae27",
   "metadata": {},
   "outputs": [
    {
     "data": {
      "text/html": [
       "<div>\n",
       "<style scoped>\n",
       "    .dataframe tbody tr th:only-of-type {\n",
       "        vertical-align: middle;\n",
       "    }\n",
       "\n",
       "    .dataframe tbody tr th {\n",
       "        vertical-align: top;\n",
       "    }\n",
       "\n",
       "    .dataframe thead th {\n",
       "        text-align: right;\n",
       "    }\n",
       "</style>\n",
       "<table border=\"1\" class=\"dataframe\">\n",
       "  <thead>\n",
       "    <tr style=\"text-align: right;\">\n",
       "      <th></th>\n",
       "      <th>ap_day_of_week</th>\n",
       "      <th>show</th>\n",
       "      <th>show_count</th>\n",
       "      <th>%_of_totals</th>\n",
       "    </tr>\n",
       "  </thead>\n",
       "  <tbody>\n",
       "    <tr>\n",
       "      <th>0</th>\n",
       "      <td>Friday</td>\n",
       "      <td>No</td>\n",
       "      <td>4037</td>\n",
       "      <td>21.23</td>\n",
       "    </tr>\n",
       "    <tr>\n",
       "      <th>1</th>\n",
       "      <td>Friday</td>\n",
       "      <td>Yes</td>\n",
       "      <td>14982</td>\n",
       "      <td>78.77</td>\n",
       "    </tr>\n",
       "    <tr>\n",
       "      <th>2</th>\n",
       "      <td>Monday</td>\n",
       "      <td>No</td>\n",
       "      <td>4690</td>\n",
       "      <td>20.65</td>\n",
       "    </tr>\n",
       "    <tr>\n",
       "      <th>3</th>\n",
       "      <td>Monday</td>\n",
       "      <td>Yes</td>\n",
       "      <td>18025</td>\n",
       "      <td>79.35</td>\n",
       "    </tr>\n",
       "    <tr>\n",
       "      <th>4</th>\n",
       "      <td>Saturday</td>\n",
       "      <td>No</td>\n",
       "      <td>9</td>\n",
       "      <td>23.08</td>\n",
       "    </tr>\n",
       "    <tr>\n",
       "      <th>5</th>\n",
       "      <td>Saturday</td>\n",
       "      <td>Yes</td>\n",
       "      <td>30</td>\n",
       "      <td>76.92</td>\n",
       "    </tr>\n",
       "    <tr>\n",
       "      <th>6</th>\n",
       "      <td>Thursday</td>\n",
       "      <td>No</td>\n",
       "      <td>3338</td>\n",
       "      <td>19.35</td>\n",
       "    </tr>\n",
       "    <tr>\n",
       "      <th>7</th>\n",
       "      <td>Thursday</td>\n",
       "      <td>Yes</td>\n",
       "      <td>13909</td>\n",
       "      <td>80.65</td>\n",
       "    </tr>\n",
       "    <tr>\n",
       "      <th>8</th>\n",
       "      <td>Tuesday</td>\n",
       "      <td>No</td>\n",
       "      <td>5152</td>\n",
       "      <td>20.09</td>\n",
       "    </tr>\n",
       "    <tr>\n",
       "      <th>9</th>\n",
       "      <td>Tuesday</td>\n",
       "      <td>Yes</td>\n",
       "      <td>20488</td>\n",
       "      <td>79.91</td>\n",
       "    </tr>\n",
       "    <tr>\n",
       "      <th>10</th>\n",
       "      <td>Wednesday</td>\n",
       "      <td>No</td>\n",
       "      <td>5093</td>\n",
       "      <td>19.69</td>\n",
       "    </tr>\n",
       "    <tr>\n",
       "      <th>11</th>\n",
       "      <td>Wednesday</td>\n",
       "      <td>Yes</td>\n",
       "      <td>20774</td>\n",
       "      <td>80.31</td>\n",
       "    </tr>\n",
       "  </tbody>\n",
       "</table>\n",
       "</div>"
      ],
      "text/plain": [
       "   ap_day_of_week show  show_count  %_of_totals\n",
       "0          Friday   No        4037        21.23\n",
       "1          Friday  Yes       14982        78.77\n",
       "2          Monday   No        4690        20.65\n",
       "3          Monday  Yes       18025        79.35\n",
       "4        Saturday   No           9        23.08\n",
       "5        Saturday  Yes          30        76.92\n",
       "6        Thursday   No        3338        19.35\n",
       "7        Thursday  Yes       13909        80.65\n",
       "8         Tuesday   No        5152        20.09\n",
       "9         Tuesday  Yes       20488        79.91\n",
       "10      Wednesday   No        5093        19.69\n",
       "11      Wednesday  Yes       20774        80.31"
      ]
     },
     "execution_count": 57,
     "metadata": {},
     "output_type": "execute_result"
    }
   ],
   "source": [
    "# calculation proportion function and add percentage column\n",
    "\n",
    "def calc_prop(x):\n",
    "    return  round((x['show_count']/day_totals[x.ap_day_of_week])*100,2)\n",
    "\n",
    "day_group_df['%_of_totals'] = day_group_df.apply(calc_prop,\n",
    "axis = 1)\n",
    "\n",
    "day_group_df"
   ]
  },
  {
   "cell_type": "code",
   "execution_count": 60,
   "id": "6d1c46c6",
   "metadata": {},
   "outputs": [
    {
     "data": {
      "image/png": "[encoded data removed]",
      "text/plain": [
       "<Figure size 720x432 with 1 Axes>"
      ]
     },
     "metadata": {
      "needs_background": "light"
     },
     "output_type": "display_data"
    }
   ],
   "source": [
    "#plot for label and proportion\n",
    "plt.figure(figsize=(10,6))\n",
    "plt.ylim(0,100)\n",
    "\n",
    "ax = sns.barplot(x='ap_day_of_week',y='%_of_totals',hue='show',\n",
    "            data=day_group_df,palette='hls',capsize=0.05,\n",
    "                order=['Monday','Tuesday','Wednesday','Thursday',\n",
    "            'Saturday'],saturation=8)\n",
    "\n",
    "plt.xlabel('Week Days')\n",
    "plt.ylabel('Show up percentage')\n",
    "plt.title('Percent proportion of appointment show up by day of th week')\n",
    "plt.grid(axis='y')\n",
    "\n",
    "for i in ax.containers:\n",
    "    ax.bar_label(i,)\n",
    "\n",
    "plt.show()"
   ]
  },
  {
   "cell_type": "markdown",
   "id": "64f333f7",
   "metadata": {},
   "source": [
    "# "
   ]
  },
  {
   "cell_type": "markdown",
   "id": "08a77e25",
   "metadata": {},
   "source": [
    "##### Does SMS reminders influence showing up ?"
   ]
  },
  {
   "cell_type": "markdown",
   "id": "3286f537",
   "metadata": {},
   "source": [
    "##### The aim of this question is the exploration of the possible impact of sms reminder on the likelihood of a pateint showing up for appointment."
   ]
  },
  {
   "cell_type": "code",
   "execution_count": 49,
   "id": "53cfba07",
   "metadata": {},
   "outputs": [
    {
     "data": {
      "text/html": [
       "<div>\n",
       "<style scoped>\n",
       "    .dataframe tbody tr th:only-of-type {\n",
       "        vertical-align: middle;\n",
       "    }\n",
       "\n",
       "    .dataframe tbody tr th {\n",
       "        vertical-align: top;\n",
       "    }\n",
       "\n",
       "    .dataframe thead th {\n",
       "        text-align: right;\n",
       "    }\n",
       "</style>\n",
       "<table border=\"1\" class=\"dataframe\">\n",
       "  <thead>\n",
       "    <tr style=\"text-align: right;\">\n",
       "      <th></th>\n",
       "      <th>sms_received</th>\n",
       "      <th>show</th>\n",
       "      <th>age</th>\n",
       "    </tr>\n",
       "  </thead>\n",
       "  <tbody>\n",
       "    <tr>\n",
       "      <th>0</th>\n",
       "      <td>No</td>\n",
       "      <td>No</td>\n",
       "      <td>12535</td>\n",
       "    </tr>\n",
       "    <tr>\n",
       "      <th>1</th>\n",
       "      <td>No</td>\n",
       "      <td>Yes</td>\n",
       "      <td>62510</td>\n",
       "    </tr>\n",
       "    <tr>\n",
       "      <th>2</th>\n",
       "      <td>Yes</td>\n",
       "      <td>No</td>\n",
       "      <td>9784</td>\n",
       "    </tr>\n",
       "    <tr>\n",
       "      <th>3</th>\n",
       "      <td>Yes</td>\n",
       "      <td>Yes</td>\n",
       "      <td>25698</td>\n",
       "    </tr>\n",
       "  </tbody>\n",
       "</table>\n",
       "</div>"
      ],
      "text/plain": [
       "  sms_received show    age\n",
       "0           No   No  12535\n",
       "1           No  Yes  62510\n",
       "2          Yes   No   9784\n",
       "3          Yes  Yes  25698"
      ]
     },
     "execution_count": 49,
     "metadata": {},
     "output_type": "execute_result"
    }
   ],
   "source": [
    "## Recieved sms and showed up grouped\n",
    "sms_group_df = df.groupby(['sms_received','show'],\n",
    "        as_index=False).age.count()\n",
    "sms_group_df"
   ]
  },
  {
   "cell_type": "code",
   "execution_count": 63,
   "id": "e72aca84",
   "metadata": {},
   "outputs": [
    {
     "data": {
      "text/plain": [
       "{'Yes': 35482, 'No': 75045}"
      ]
     },
     "execution_count": 63,
     "metadata": {},
     "output_type": "execute_result"
    }
   ],
   "source": [
    "#get totals\n",
    "\n",
    "received_total = sms_group_df[sms_group_df.sms_received == 'Yes']['age'].sum()\n",
    "no_received_total = sms_group_df[sms_group_df['sms_received']=='No']['age'].sum()\n",
    "\n",
    "totals = {'Yes': received_total, 'No': no_received_total}                              \n",
    "\n",
    "totals"
   ]
  },
  {
   "cell_type": "code",
   "execution_count": 64,
   "id": "fb1e79c1",
   "metadata": {},
   "outputs": [
    {
     "data": {
      "text/html": [
       "<div>\n",
       "<style scoped>\n",
       "    .dataframe tbody tr th:only-of-type {\n",
       "        vertical-align: middle;\n",
       "    }\n",
       "\n",
       "    .dataframe tbody tr th {\n",
       "        vertical-align: top;\n",
       "    }\n",
       "\n",
       "    .dataframe thead th {\n",
       "        text-align: right;\n",
       "    }\n",
       "</style>\n",
       "<table border=\"1\" class=\"dataframe\">\n",
       "  <thead>\n",
       "    <tr style=\"text-align: right;\">\n",
       "      <th></th>\n",
       "      <th>sms_received</th>\n",
       "      <th>show</th>\n",
       "      <th>age</th>\n",
       "      <th>%_of_total</th>\n",
       "    </tr>\n",
       "  </thead>\n",
       "  <tbody>\n",
       "    <tr>\n",
       "      <th>0</th>\n",
       "      <td>No</td>\n",
       "      <td>No</td>\n",
       "      <td>12535</td>\n",
       "      <td>17.0</td>\n",
       "    </tr>\n",
       "    <tr>\n",
       "      <th>1</th>\n",
       "      <td>No</td>\n",
       "      <td>Yes</td>\n",
       "      <td>62510</td>\n",
       "      <td>83.0</td>\n",
       "    </tr>\n",
       "    <tr>\n",
       "      <th>2</th>\n",
       "      <td>Yes</td>\n",
       "      <td>No</td>\n",
       "      <td>9784</td>\n",
       "      <td>28.0</td>\n",
       "    </tr>\n",
       "    <tr>\n",
       "      <th>3</th>\n",
       "      <td>Yes</td>\n",
       "      <td>Yes</td>\n",
       "      <td>25698</td>\n",
       "      <td>72.0</td>\n",
       "    </tr>\n",
       "  </tbody>\n",
       "</table>\n",
       "</div>"
      ],
      "text/plain": [
       "  sms_received show    age  %_of_total\n",
       "0           No   No  12535        17.0\n",
       "1           No  Yes  62510        83.0\n",
       "2          Yes   No   9784        28.0\n",
       "3          Yes  Yes  25698        72.0"
      ]
     },
     "execution_count": 64,
     "metadata": {},
     "output_type": "execute_result"
    }
   ],
   "source": [
    "## add percent proportion column\n",
    "sms_group_df['%_of_total'] = sms_group_df.apply(lambda x:\n",
    "    round(x.age/totals[x.sms_received],2)*100,axis=1)\n",
    "\n",
    "sms_group_df"
   ]
  },
  {
   "cell_type": "code",
   "execution_count": 65,
   "id": "b445375b",
   "metadata": {},
   "outputs": [
    {
     "data": {
      "image/png": "[encoded data removed]",
      "text/plain": [
       "<Figure size 720x576 with 1 Axes>"
      ]
     },
     "metadata": {
      "needs_background": "light"
     },
     "output_type": "display_data"
    }
   ],
   "source": [
    "#plot\n",
    "\n",
    "labels = ['Receive', 'Not received']\n",
    "\n",
    "plt.figure(figsize=(10,8))\n",
    "plt.ylim(0,100)\n",
    "plt.grid(axis='y')\n",
    "\n",
    "#plot\n",
    "ax = sns.barplot(x = 'sms_received',y='%_of_total',hue='show',\n",
    "    palette='hls',data= sms_group_df,order=['Yes','No'],\n",
    "                capsize=0.05,saturation=8)\n",
    "\n",
    "plt.xlabel('SMS received')\n",
    "plt.ylabel('Show up percentage')\n",
    "plt.title('Percent Proportion of appointment show up by received')\n",
    "\n",
    "for i in ax.containers:\n",
    "    ax.bar_label(i)\n",
    "    \n",
    "plt.show()"
   ]
  },
  {
   "cell_type": "markdown",
   "id": "d493371d",
   "metadata": {},
   "source": [
    "# "
   ]
  },
  {
   "cell_type": "markdown",
   "id": "068386bd",
   "metadata": {},
   "source": [
    "##### Does the length of time between booking and actual apoointment time effect showing up?"
   ]
  },
  {
   "cell_type": "markdown",
   "id": "d2dde752",
   "metadata": {},
   "source": [
    "This question seek to explore whether the time space \n",
    "between scheduling of appointment and the actual \n",
    "appointment time might likely have any effect on showing.\n",
    "\n",
    "This is acheived by the addition of two more columns.\n",
    "The contact_duration column was added to contain the \n",
    "integer representation of the duration representation of\n",
    "the duration(days).While the duration_label was added to groupa \n",
    "and label the days.\n",
    "This is done due to the large distributuion of duration\n",
    "time"
   ]
  },
  {
   "cell_type": "code",
   "execution_count": 51,
   "id": "edbaef16",
   "metadata": {},
   "outputs": [
    {
     "data": {
      "text/html": [
       "<div>\n",
       "<style scoped>\n",
       "    .dataframe tbody tr th:only-of-type {\n",
       "        vertical-align: middle;\n",
       "    }\n",
       "\n",
       "    .dataframe tbody tr th {\n",
       "        vertical-align: top;\n",
       "    }\n",
       "\n",
       "    .dataframe thead th {\n",
       "        text-align: right;\n",
       "    }\n",
       "</style>\n",
       "<table border=\"1\" class=\"dataframe\">\n",
       "  <thead>\n",
       "    <tr style=\"text-align: right;\">\n",
       "      <th></th>\n",
       "      <th>gender</th>\n",
       "      <th>scheduled_day</th>\n",
       "      <th>appointment_day</th>\n",
       "      <th>age</th>\n",
       "      <th>neighbourhood</th>\n",
       "      <th>scholarship</th>\n",
       "      <th>hypertension</th>\n",
       "      <th>diabetes</th>\n",
       "      <th>alcoholism</th>\n",
       "      <th>handcap</th>\n",
       "      <th>sms_received</th>\n",
       "      <th>show</th>\n",
       "    </tr>\n",
       "  </thead>\n",
       "  <tbody>\n",
       "    <tr>\n",
       "      <th>0</th>\n",
       "      <td>F</td>\n",
       "      <td>2016-04-29T18:38:08Z</td>\n",
       "      <td>2016-04-29T00:00:00Z</td>\n",
       "      <td>62</td>\n",
       "      <td>JARDIM DA PENHA</td>\n",
       "      <td>No</td>\n",
       "      <td>Yes</td>\n",
       "      <td>No</td>\n",
       "      <td>No</td>\n",
       "      <td>0</td>\n",
       "      <td>No</td>\n",
       "      <td>Yes</td>\n",
       "    </tr>\n",
       "  </tbody>\n",
       "</table>\n",
       "</div>"
      ],
      "text/plain": [
       "  gender         scheduled_day       appointment_day  age    neighbourhood  \\\n",
       "0      F  2016-04-29T18:38:08Z  2016-04-29T00:00:00Z   62  JARDIM DA PENHA   \n",
       "\n",
       "  scholarship hypertension diabetes alcoholism  handcap sms_received show  \n",
       "0          No          Yes       No         No        0           No  Yes  "
      ]
     },
     "execution_count": 51,
     "metadata": {},
     "output_type": "execute_result"
    }
   ],
   "source": [
    "df.head(1)"
   ]
  },
  {
   "cell_type": "code",
   "execution_count": 52,
   "id": "288623c1",
   "metadata": {},
   "outputs": [
    {
     "data": {
      "text/plain": [
       "count    110527.000000\n",
       "mean          9.183702\n",
       "std          15.254996\n",
       "min          -7.000000\n",
       "25%          -1.000000\n",
       "50%           3.000000\n",
       "75%          14.000000\n",
       "max         178.000000\n",
       "Name: contact_duration, dtype: float64"
      ]
     },
     "execution_count": 52,
     "metadata": {},
     "output_type": "execute_result"
    }
   ],
   "source": [
    "\n",
    "df['contact_duration'] = pd.to_datetime(df\n",
    "['appointment_day'])- pd.to_datetime(df['scheduled_day'])\n",
    "    \n",
    "df['contact_duration'] = df['contact_duration'].apply(\n",
    "lambda x:x.days)\n",
    "df['contact_duration'].describe()\n",
    "# df['contact_duration']"
   ]
  },
  {
   "cell_type": "code",
   "execution_count": 53,
   "id": "af3ac88c",
   "metadata": {},
   "outputs": [
    {
     "data": {
      "image/png": "[encoded data removed]",
      "text/plain": [
       "<Figure size 432x288 with 1 Axes>"
      ]
     },
     "metadata": {
      "needs_background": "light"
     },
     "output_type": "display_data"
    }
   ],
   "source": [
    "df['contact_duration'].hist();"
   ]
  },
  {
   "cell_type": "code",
   "execution_count": 54,
   "id": "41880539",
   "metadata": {},
   "outputs": [
    {
     "data": {
      "text/plain": [
       "-7"
      ]
     },
     "execution_count": 54,
     "metadata": {},
     "output_type": "execute_result"
    }
   ],
   "source": [
    "df.contact_duration[df.contact_duration < 0].min()"
   ]
  },
  {
   "cell_type": "code",
   "execution_count": 55,
   "id": "50fd978b",
   "metadata": {},
   "outputs": [
    {
     "data": {
      "text/html": [
       "<div>\n",
       "<style scoped>\n",
       "    .dataframe tbody tr th:only-of-type {\n",
       "        vertical-align: middle;\n",
       "    }\n",
       "\n",
       "    .dataframe tbody tr th {\n",
       "        vertical-align: top;\n",
       "    }\n",
       "\n",
       "    .dataframe thead th {\n",
       "        text-align: right;\n",
       "    }\n",
       "</style>\n",
       "<table border=\"1\" class=\"dataframe\">\n",
       "  <thead>\n",
       "    <tr style=\"text-align: right;\">\n",
       "      <th></th>\n",
       "      <th>gender</th>\n",
       "      <th>scheduled_day</th>\n",
       "      <th>appointment_day</th>\n",
       "      <th>age</th>\n",
       "      <th>neighbourhood</th>\n",
       "      <th>scholarship</th>\n",
       "      <th>hypertension</th>\n",
       "      <th>diabetes</th>\n",
       "      <th>alcoholism</th>\n",
       "      <th>handcap</th>\n",
       "      <th>sms_received</th>\n",
       "      <th>show</th>\n",
       "      <th>contact_duration</th>\n",
       "    </tr>\n",
       "  </thead>\n",
       "  <tbody>\n",
       "    <tr>\n",
       "      <th>0</th>\n",
       "      <td>F</td>\n",
       "      <td>2016-04-29T18:38:08Z</td>\n",
       "      <td>2016-04-29T00:00:00Z</td>\n",
       "      <td>62</td>\n",
       "      <td>JARDIM DA PENHA</td>\n",
       "      <td>No</td>\n",
       "      <td>Yes</td>\n",
       "      <td>No</td>\n",
       "      <td>No</td>\n",
       "      <td>0</td>\n",
       "      <td>No</td>\n",
       "      <td>Yes</td>\n",
       "      <td>-1</td>\n",
       "    </tr>\n",
       "  </tbody>\n",
       "</table>\n",
       "</div>"
      ],
      "text/plain": [
       "  gender         scheduled_day       appointment_day  age    neighbourhood  \\\n",
       "0      F  2016-04-29T18:38:08Z  2016-04-29T00:00:00Z   62  JARDIM DA PENHA   \n",
       "\n",
       "  scholarship hypertension diabetes alcoholism  handcap sms_received show  \\\n",
       "0          No          Yes       No         No        0           No  Yes   \n",
       "\n",
       "   contact_duration  \n",
       "0                -1  "
      ]
     },
     "execution_count": 55,
     "metadata": {},
     "output_type": "execute_result"
    }
   ],
   "source": [
    "df.head(1)"
   ]
  },
  {
   "cell_type": "code",
   "execution_count": 56,
   "id": "d9a6e826",
   "metadata": {},
   "outputs": [
    {
     "data": {
      "text/plain": [
       "38568"
      ]
     },
     "execution_count": 56,
     "metadata": {},
     "output_type": "execute_result"
    }
   ],
   "source": [
    "# explore negative duration\n",
    "\n",
    "df.contact_duration[df.contact_duration < 0].count()"
   ]
  },
  {
   "cell_type": "code",
   "execution_count": 57,
   "id": "ea8fa774",
   "metadata": {},
   "outputs": [
    {
     "data": {
      "text/plain": [
       "count    71959.000000\n",
       "mean        14.642018\n",
       "std         16.494334\n",
       "min          0.000000\n",
       "25%          3.000000\n",
       "50%          8.000000\n",
       "75%         21.000000\n",
       "max        178.000000\n",
       "Name: contact_duration, dtype: float64"
      ]
     },
     "execution_count": 57,
     "metadata": {},
     "output_type": "execute_result"
    }
   ],
   "source": [
    "# drop duration with negative values\n",
    "\n",
    "df_filter_bad_duration = df.drop(df[df.contact_duration \n",
    "                                   < 0].index)\n",
    "\n",
    "df_filter_bad_duration['contact_duration'].describe()"
   ]
  },
  {
   "cell_type": "code",
   "execution_count": 58,
   "id": "2cc01669",
   "metadata": {},
   "outputs": [],
   "source": [
    "# group duration values\n",
    "\n",
    "def group_duration(x):\n",
    "    '''Labels the interval of int x'''\n",
    "    if x <=1 :\n",
    "        return '1 day'\n",
    "    if x > 1 and x <= 7:\n",
    "        return '1 week'\n",
    "    if x > 7 and x <= 14:\n",
    "        return '2 week'\n",
    "    if x > 14 and x <= 21:\n",
    "        return '3 week'\n",
    "    if x > 21 and x <= 28:\n",
    "        return '1 month'\n",
    "    if x > 28 and x <= 56:\n",
    "        return '2 months'\n",
    "    if x > 56:\n",
    "        return '3 months and above'\n",
    "        "
   ]
  },
  {
   "cell_type": "code",
   "execution_count": 112,
   "id": "7b0b382b",
   "metadata": {},
   "outputs": [
    {
     "data": {
      "text/html": [
       "<div>\n",
       "<style scoped>\n",
       "    .dataframe tbody tr th:only-of-type {\n",
       "        vertical-align: middle;\n",
       "    }\n",
       "\n",
       "    .dataframe tbody tr th {\n",
       "        vertical-align: top;\n",
       "    }\n",
       "\n",
       "    .dataframe thead th {\n",
       "        text-align: right;\n",
       "    }\n",
       "</style>\n",
       "<table border=\"1\" class=\"dataframe\">\n",
       "  <thead>\n",
       "    <tr style=\"text-align: right;\">\n",
       "      <th></th>\n",
       "      <th>gender</th>\n",
       "      <th>scheduled_day</th>\n",
       "      <th>appointment_day</th>\n",
       "      <th>age</th>\n",
       "      <th>neighbourhood</th>\n",
       "      <th>scholarship</th>\n",
       "      <th>hypertension</th>\n",
       "      <th>diabetes</th>\n",
       "      <th>alcoholism</th>\n",
       "      <th>handcap</th>\n",
       "      <th>sms_received</th>\n",
       "      <th>show</th>\n",
       "      <th>ap_day_of_week</th>\n",
       "      <th>contact_duration</th>\n",
       "      <th>duration_label</th>\n",
       "    </tr>\n",
       "  </thead>\n",
       "  <tbody>\n",
       "    <tr>\n",
       "      <th>34884</th>\n",
       "      <td>F</td>\n",
       "      <td>2016-05-05T09:03:01Z</td>\n",
       "      <td>2016-05-13T00:00:00Z</td>\n",
       "      <td>64</td>\n",
       "      <td>TABUAZEIRO</td>\n",
       "      <td>No</td>\n",
       "      <td>No</td>\n",
       "      <td>No</td>\n",
       "      <td>No</td>\n",
       "      <td>0</td>\n",
       "      <td>No</td>\n",
       "      <td>Yes</td>\n",
       "      <td>Friday</td>\n",
       "      <td>7</td>\n",
       "      <td>1 week</td>\n",
       "    </tr>\n",
       "    <tr>\n",
       "      <th>31348</th>\n",
       "      <td>F</td>\n",
       "      <td>2016-04-29T09:24:19Z</td>\n",
       "      <td>2016-05-06T00:00:00Z</td>\n",
       "      <td>33</td>\n",
       "      <td>DO MOSCOSO</td>\n",
       "      <td>No</td>\n",
       "      <td>No</td>\n",
       "      <td>No</td>\n",
       "      <td>No</td>\n",
       "      <td>0</td>\n",
       "      <td>No</td>\n",
       "      <td>No</td>\n",
       "      <td>Friday</td>\n",
       "      <td>6</td>\n",
       "      <td>1 week</td>\n",
       "    </tr>\n",
       "    <tr>\n",
       "      <th>11531</th>\n",
       "      <td>M</td>\n",
       "      <td>2016-05-11T09:12:28Z</td>\n",
       "      <td>2016-05-12T00:00:00Z</td>\n",
       "      <td>34</td>\n",
       "      <td>FRADINHOS</td>\n",
       "      <td>No</td>\n",
       "      <td>No</td>\n",
       "      <td>No</td>\n",
       "      <td>No</td>\n",
       "      <td>0</td>\n",
       "      <td>No</td>\n",
       "      <td>Yes</td>\n",
       "      <td>Thursday</td>\n",
       "      <td>0</td>\n",
       "      <td>1 day</td>\n",
       "    </tr>\n",
       "    <tr>\n",
       "      <th>65121</th>\n",
       "      <td>M</td>\n",
       "      <td>2016-04-07T19:55:31Z</td>\n",
       "      <td>2016-05-18T00:00:00Z</td>\n",
       "      <td>52</td>\n",
       "      <td>JARDIM CAMBURI</td>\n",
       "      <td>No</td>\n",
       "      <td>Yes</td>\n",
       "      <td>No</td>\n",
       "      <td>No</td>\n",
       "      <td>0</td>\n",
       "      <td>No</td>\n",
       "      <td>No</td>\n",
       "      <td>Wednesday</td>\n",
       "      <td>40</td>\n",
       "      <td>2 months</td>\n",
       "    </tr>\n",
       "    <tr>\n",
       "      <th>87832</th>\n",
       "      <td>F</td>\n",
       "      <td>2016-05-16T14:00:32Z</td>\n",
       "      <td>2016-06-07T00:00:00Z</td>\n",
       "      <td>24</td>\n",
       "      <td>CARATOÍRA</td>\n",
       "      <td>No</td>\n",
       "      <td>No</td>\n",
       "      <td>No</td>\n",
       "      <td>No</td>\n",
       "      <td>0</td>\n",
       "      <td>Yes</td>\n",
       "      <td>Yes</td>\n",
       "      <td>Tuesday</td>\n",
       "      <td>21</td>\n",
       "      <td>3 week</td>\n",
       "    </tr>\n",
       "  </tbody>\n",
       "</table>\n",
       "</div>"
      ],
      "text/plain": [
       "      gender         scheduled_day       appointment_day  age   neighbourhood  \\\n",
       "34884      F  2016-05-05T09:03:01Z  2016-05-13T00:00:00Z   64      TABUAZEIRO   \n",
       "31348      F  2016-04-29T09:24:19Z  2016-05-06T00:00:00Z   33      DO MOSCOSO   \n",
       "11531      M  2016-05-11T09:12:28Z  2016-05-12T00:00:00Z   34       FRADINHOS   \n",
       "65121      M  2016-04-07T19:55:31Z  2016-05-18T00:00:00Z   52  JARDIM CAMBURI   \n",
       "87832      F  2016-05-16T14:00:32Z  2016-06-07T00:00:00Z   24       CARATOÍRA   \n",
       "\n",
       "      scholarship hypertension diabetes alcoholism  handcap sms_received show  \\\n",
       "34884          No           No       No         No        0           No  Yes   \n",
       "31348          No           No       No         No        0           No   No   \n",
       "11531          No           No       No         No        0           No  Yes   \n",
       "65121          No          Yes       No         No        0           No   No   \n",
       "87832          No           No       No         No        0          Yes  Yes   \n",
       "\n",
       "      ap_day_of_week  contact_duration duration_label  \n",
       "34884         Friday                 7         1 week  \n",
       "31348         Friday                 6         1 week  \n",
       "11531       Thursday                 0          1 day  \n",
       "65121      Wednesday                40       2 months  \n",
       "87832        Tuesday                21         3 week  "
      ]
     },
     "execution_count": 112,
     "metadata": {},
     "output_type": "execute_result"
    }
   ],
   "source": [
    "#Group and label duration\n",
    "\n",
    "df_filter_bad_duration['duration_label'] =df_filter_bad_duration['contact_duration'].apply(group_duration)\n",
    "\n",
    "df_filter_bad_duration.sample(5)"
   ]
  },
  {
   "cell_type": "markdown",
   "id": "e013efcb",
   "metadata": {},
   "source": [
    "Totals of duration grouping"
   ]
  },
  {
   "cell_type": "code",
   "execution_count": 113,
   "id": "a4f1bb97",
   "metadata": {},
   "outputs": [
    {
     "data": {
      "text/plain": [
       "{'1 week': 22579,\n",
       " '1 day': 11938,\n",
       " '2 week': 11196,\n",
       " '2 months': 8714,\n",
       " '3 week': 8544,\n",
       " '1 month': 6620,\n",
       " '3 months and above': 2368}"
      ]
     },
     "execution_count": 113,
     "metadata": {},
     "output_type": "execute_result"
    }
   ],
   "source": [
    "# duration_count_totals\n",
    "\n",
    "duration_labels = df_filter_bad_duration.duration_label.value_counts().index\n",
    "duration_count_totals = {label: df_filter_bad_duration[df_filter_bad_duration.duration_label == label].shape[0] for label in duration_labels}\n",
    "\n",
    "duration_count_totals"
   ]
  },
  {
   "cell_type": "code",
   "execution_count": 116,
   "id": "b7d739c8",
   "metadata": {},
   "outputs": [
    {
     "data": {
      "text/html": [
       "<div>\n",
       "<style scoped>\n",
       "    .dataframe tbody tr th:only-of-type {\n",
       "        vertical-align: middle;\n",
       "    }\n",
       "\n",
       "    .dataframe tbody tr th {\n",
       "        vertical-align: top;\n",
       "    }\n",
       "\n",
       "    .dataframe thead th {\n",
       "        text-align: right;\n",
       "    }\n",
       "</style>\n",
       "<table border=\"1\" class=\"dataframe\">\n",
       "  <thead>\n",
       "    <tr style=\"text-align: right;\">\n",
       "      <th></th>\n",
       "      <th>duration_label</th>\n",
       "      <th>show</th>\n",
       "      <th>duration_count</th>\n",
       "    </tr>\n",
       "  </thead>\n",
       "  <tbody>\n",
       "    <tr>\n",
       "      <th>0</th>\n",
       "      <td>1 day</td>\n",
       "      <td>No</td>\n",
       "      <td>2715</td>\n",
       "    </tr>\n",
       "    <tr>\n",
       "      <th>1</th>\n",
       "      <td>1 day</td>\n",
       "      <td>Yes</td>\n",
       "      <td>9223</td>\n",
       "    </tr>\n",
       "    <tr>\n",
       "      <th>2</th>\n",
       "      <td>1 month</td>\n",
       "      <td>No</td>\n",
       "      <td>2209</td>\n",
       "    </tr>\n",
       "    <tr>\n",
       "      <th>3</th>\n",
       "      <td>1 month</td>\n",
       "      <td>Yes</td>\n",
       "      <td>4411</td>\n",
       "    </tr>\n",
       "    <tr>\n",
       "      <th>4</th>\n",
       "      <td>1 week</td>\n",
       "      <td>No</td>\n",
       "      <td>5727</td>\n",
       "    </tr>\n",
       "    <tr>\n",
       "      <th>5</th>\n",
       "      <td>1 week</td>\n",
       "      <td>Yes</td>\n",
       "      <td>16852</td>\n",
       "    </tr>\n",
       "    <tr>\n",
       "      <th>6</th>\n",
       "      <td>2 months</td>\n",
       "      <td>No</td>\n",
       "      <td>2916</td>\n",
       "    </tr>\n",
       "    <tr>\n",
       "      <th>7</th>\n",
       "      <td>2 months</td>\n",
       "      <td>Yes</td>\n",
       "      <td>5798</td>\n",
       "    </tr>\n",
       "    <tr>\n",
       "      <th>8</th>\n",
       "      <td>2 week</td>\n",
       "      <td>No</td>\n",
       "      <td>3496</td>\n",
       "    </tr>\n",
       "    <tr>\n",
       "      <th>9</th>\n",
       "      <td>2 week</td>\n",
       "      <td>Yes</td>\n",
       "      <td>7700</td>\n",
       "    </tr>\n",
       "    <tr>\n",
       "      <th>10</th>\n",
       "      <td>3 months and above</td>\n",
       "      <td>No</td>\n",
       "      <td>696</td>\n",
       "    </tr>\n",
       "    <tr>\n",
       "      <th>11</th>\n",
       "      <td>3 months and above</td>\n",
       "      <td>Yes</td>\n",
       "      <td>1672</td>\n",
       "    </tr>\n",
       "    <tr>\n",
       "      <th>12</th>\n",
       "      <td>3 week</td>\n",
       "      <td>No</td>\n",
       "      <td>2763</td>\n",
       "    </tr>\n",
       "    <tr>\n",
       "      <th>13</th>\n",
       "      <td>3 week</td>\n",
       "      <td>Yes</td>\n",
       "      <td>5781</td>\n",
       "    </tr>\n",
       "  </tbody>\n",
       "</table>\n",
       "</div>"
      ],
      "text/plain": [
       "        duration_label show  duration_count\n",
       "0                1 day   No            2715\n",
       "1                1 day  Yes            9223\n",
       "2              1 month   No            2209\n",
       "3              1 month  Yes            4411\n",
       "4               1 week   No            5727\n",
       "5               1 week  Yes           16852\n",
       "6             2 months   No            2916\n",
       "7             2 months  Yes            5798\n",
       "8               2 week   No            3496\n",
       "9               2 week  Yes            7700\n",
       "10  3 months and above   No             696\n",
       "11  3 months and above  Yes            1672\n",
       "12              3 week   No            2763\n",
       "13              3 week  Yes            5781"
      ]
     },
     "execution_count": 116,
     "metadata": {},
     "output_type": "execute_result"
    }
   ],
   "source": [
    "# duration and show up grouping\n",
    "\n",
    "duration_group_df = df_filter_bad_duration.groupby([\n",
    "    'duration_label', 'show'], \n",
    "    as_index = False)['contact_duration'].count()\n",
    "\n",
    "#rename last column for clarity\n",
    "duration_group_df.rename(columns = \n",
    "    {'contact_duration':'duration_count'},inplace = True)\n",
    "\n",
    "duration_group_df"
   ]
  },
  {
   "cell_type": "code",
   "execution_count": 117,
   "id": "da6e15ac",
   "metadata": {},
   "outputs": [],
   "source": [
    "# percentage calc functiom\n",
    "\n",
    "def calc_prop(x):\n",
    "    return round((x['duration_count']/duration_count_totals\n",
    "                 [x.duration_label])*100,2)"
   ]
  },
  {
   "cell_type": "code",
   "execution_count": 118,
   "id": "dc038a81",
   "metadata": {},
   "outputs": [
    {
     "data": {
      "text/html": [
       "<div>\n",
       "<style scoped>\n",
       "    .dataframe tbody tr th:only-of-type {\n",
       "        vertical-align: middle;\n",
       "    }\n",
       "\n",
       "    .dataframe tbody tr th {\n",
       "        vertical-align: top;\n",
       "    }\n",
       "\n",
       "    .dataframe thead th {\n",
       "        text-align: right;\n",
       "    }\n",
       "</style>\n",
       "<table border=\"1\" class=\"dataframe\">\n",
       "  <thead>\n",
       "    <tr style=\"text-align: right;\">\n",
       "      <th></th>\n",
       "      <th>duration_label</th>\n",
       "      <th>show</th>\n",
       "      <th>duration_count</th>\n",
       "      <th>%_of_total</th>\n",
       "    </tr>\n",
       "  </thead>\n",
       "  <tbody>\n",
       "    <tr>\n",
       "      <th>0</th>\n",
       "      <td>1 day</td>\n",
       "      <td>No</td>\n",
       "      <td>2715</td>\n",
       "      <td>22.74</td>\n",
       "    </tr>\n",
       "    <tr>\n",
       "      <th>1</th>\n",
       "      <td>1 day</td>\n",
       "      <td>Yes</td>\n",
       "      <td>9223</td>\n",
       "      <td>77.26</td>\n",
       "    </tr>\n",
       "    <tr>\n",
       "      <th>2</th>\n",
       "      <td>1 month</td>\n",
       "      <td>No</td>\n",
       "      <td>2209</td>\n",
       "      <td>33.37</td>\n",
       "    </tr>\n",
       "    <tr>\n",
       "      <th>3</th>\n",
       "      <td>1 month</td>\n",
       "      <td>Yes</td>\n",
       "      <td>4411</td>\n",
       "      <td>66.63</td>\n",
       "    </tr>\n",
       "    <tr>\n",
       "      <th>4</th>\n",
       "      <td>1 week</td>\n",
       "      <td>No</td>\n",
       "      <td>5727</td>\n",
       "      <td>25.36</td>\n",
       "    </tr>\n",
       "    <tr>\n",
       "      <th>5</th>\n",
       "      <td>1 week</td>\n",
       "      <td>Yes</td>\n",
       "      <td>16852</td>\n",
       "      <td>74.64</td>\n",
       "    </tr>\n",
       "    <tr>\n",
       "      <th>6</th>\n",
       "      <td>2 months</td>\n",
       "      <td>No</td>\n",
       "      <td>2916</td>\n",
       "      <td>33.46</td>\n",
       "    </tr>\n",
       "    <tr>\n",
       "      <th>7</th>\n",
       "      <td>2 months</td>\n",
       "      <td>Yes</td>\n",
       "      <td>5798</td>\n",
       "      <td>66.54</td>\n",
       "    </tr>\n",
       "    <tr>\n",
       "      <th>8</th>\n",
       "      <td>2 week</td>\n",
       "      <td>No</td>\n",
       "      <td>3496</td>\n",
       "      <td>31.23</td>\n",
       "    </tr>\n",
       "    <tr>\n",
       "      <th>9</th>\n",
       "      <td>2 week</td>\n",
       "      <td>Yes</td>\n",
       "      <td>7700</td>\n",
       "      <td>68.77</td>\n",
       "    </tr>\n",
       "    <tr>\n",
       "      <th>10</th>\n",
       "      <td>3 months and above</td>\n",
       "      <td>No</td>\n",
       "      <td>696</td>\n",
       "      <td>29.39</td>\n",
       "    </tr>\n",
       "    <tr>\n",
       "      <th>11</th>\n",
       "      <td>3 months and above</td>\n",
       "      <td>Yes</td>\n",
       "      <td>1672</td>\n",
       "      <td>70.61</td>\n",
       "    </tr>\n",
       "    <tr>\n",
       "      <th>12</th>\n",
       "      <td>3 week</td>\n",
       "      <td>No</td>\n",
       "      <td>2763</td>\n",
       "      <td>32.34</td>\n",
       "    </tr>\n",
       "    <tr>\n",
       "      <th>13</th>\n",
       "      <td>3 week</td>\n",
       "      <td>Yes</td>\n",
       "      <td>5781</td>\n",
       "      <td>67.66</td>\n",
       "    </tr>\n",
       "  </tbody>\n",
       "</table>\n",
       "</div>"
      ],
      "text/plain": [
       "        duration_label show  duration_count  %_of_total\n",
       "0                1 day   No            2715       22.74\n",
       "1                1 day  Yes            9223       77.26\n",
       "2              1 month   No            2209       33.37\n",
       "3              1 month  Yes            4411       66.63\n",
       "4               1 week   No            5727       25.36\n",
       "5               1 week  Yes           16852       74.64\n",
       "6             2 months   No            2916       33.46\n",
       "7             2 months  Yes            5798       66.54\n",
       "8               2 week   No            3496       31.23\n",
       "9               2 week  Yes            7700       68.77\n",
       "10  3 months and above   No             696       29.39\n",
       "11  3 months and above  Yes            1672       70.61\n",
       "12              3 week   No            2763       32.34\n",
       "13              3 week  Yes            5781       67.66"
      ]
     },
     "execution_count": 118,
     "metadata": {},
     "output_type": "execute_result"
    }
   ],
   "source": [
    "# Add a percentage column\n",
    "\n",
    "duration_group_df['%_of_total'] = duration_group_df.apply(calc_prop,axis =1)\n",
    "\n",
    "duration_group_df"
   ]
  },
  {
   "cell_type": "code",
   "execution_count": 120,
   "id": "bc855364",
   "metadata": {},
   "outputs": [
    {
     "data": {
      "image/png": "[encoded data removed]",
      "text/plain": [
       "<Figure size 720x432 with 1 Axes>"
      ]
     },
     "metadata": {
      "needs_background": "light"
     },
     "output_type": "display_data"
    }
   ],
   "source": [
    "# plot\n",
    "\n",
    "plt.figure(figsize=(10,6))\n",
    "plt.ylim(0,100)\n",
    "\n",
    "#bar_height_text(duration_group_df)\n",
    "#plt.bar(duration_group_df['duration_label'],\n",
    "#height = duration_group_df['%_of_total'],width=0.7,align='center')\n",
    "#plt.show()\n",
    "    \n",
    "                           \n",
    "ax =  sns.barplot(x='duration_label',y='%_of_total',hue='show',palette = 'hls',\n",
    "                  data=duration_group_df,\n",
    "        order = ['1 day','1 week','2 week', '3 week',\n",
    "        '1 month','2 months','3 months and above'],capsize=0.05,\n",
    "                saturation = 8)\n",
    "\n",
    "plt.xlabel('Duration')\n",
    "plt.ylabel('show up percentage')\n",
    "plt.title('percentage proportion of appointment show by schedule and appointment interval')\n",
    "plt.grid(axis='y')\n",
    "                           \n",
    "for i in ax.containers:\n",
    "    ax.bar_label(i,)\n",
    "plt.show()                           \n",
    "                "
   ]
  },
  {
   "cell_type": "markdown",
   "id": "828f7298",
   "metadata": {},
   "source": [
    "# "
   ]
  },
  {
   "cell_type": "markdown",
   "id": "3f4e1398",
   "metadata": {},
   "source": [
    "##### Does the type of ailment/disease determine showing up ?"
   ]
  },
  {
   "cell_type": "markdown",
   "id": "e8148fe3",
   "metadata": {},
   "source": [
    "This question explores the impact of variables hypertension,\n",
    "diabetes,alcoholism on the likelihood of showing up for an\n",
    "appointment."
   ]
  },
  {
   "cell_type": "code",
   "execution_count": 122,
   "id": "c2bf5c09",
   "metadata": {},
   "outputs": [
    {
     "data": {
      "text/html": [
       "<div>\n",
       "<style scoped>\n",
       "    .dataframe tbody tr th:only-of-type {\n",
       "        vertical-align: middle;\n",
       "    }\n",
       "\n",
       "    .dataframe tbody tr th {\n",
       "        vertical-align: top;\n",
       "    }\n",
       "\n",
       "    .dataframe thead th {\n",
       "        text-align: right;\n",
       "    }\n",
       "</style>\n",
       "<table border=\"1\" class=\"dataframe\">\n",
       "  <thead>\n",
       "    <tr style=\"text-align: right;\">\n",
       "      <th></th>\n",
       "      <th>gender</th>\n",
       "      <th>scheduled_day</th>\n",
       "      <th>appointment_day</th>\n",
       "      <th>age</th>\n",
       "      <th>neighbourhood</th>\n",
       "      <th>scholarship</th>\n",
       "      <th>hypertension</th>\n",
       "      <th>diabetes</th>\n",
       "      <th>alcoholism</th>\n",
       "      <th>handcap</th>\n",
       "      <th>sms_received</th>\n",
       "      <th>show</th>\n",
       "      <th>ap_day_of_week</th>\n",
       "      <th>contact_duration</th>\n",
       "    </tr>\n",
       "  </thead>\n",
       "  <tbody>\n",
       "    <tr>\n",
       "      <th>0</th>\n",
       "      <td>F</td>\n",
       "      <td>2016-04-29T18:38:08Z</td>\n",
       "      <td>2016-04-29T00:00:00Z</td>\n",
       "      <td>62</td>\n",
       "      <td>JARDIM DA PENHA</td>\n",
       "      <td>No</td>\n",
       "      <td>Yes</td>\n",
       "      <td>No</td>\n",
       "      <td>No</td>\n",
       "      <td>0</td>\n",
       "      <td>No</td>\n",
       "      <td>Yes</td>\n",
       "      <td>Friday</td>\n",
       "      <td>-1</td>\n",
       "    </tr>\n",
       "    <tr>\n",
       "      <th>1</th>\n",
       "      <td>M</td>\n",
       "      <td>2016-04-29T16:08:27Z</td>\n",
       "      <td>2016-04-29T00:00:00Z</td>\n",
       "      <td>56</td>\n",
       "      <td>JARDIM DA PENHA</td>\n",
       "      <td>No</td>\n",
       "      <td>No</td>\n",
       "      <td>No</td>\n",
       "      <td>No</td>\n",
       "      <td>0</td>\n",
       "      <td>No</td>\n",
       "      <td>Yes</td>\n",
       "      <td>Friday</td>\n",
       "      <td>-1</td>\n",
       "    </tr>\n",
       "  </tbody>\n",
       "</table>\n",
       "</div>"
      ],
      "text/plain": [
       "  gender         scheduled_day       appointment_day  age    neighbourhood  \\\n",
       "0      F  2016-04-29T18:38:08Z  2016-04-29T00:00:00Z   62  JARDIM DA PENHA   \n",
       "1      M  2016-04-29T16:08:27Z  2016-04-29T00:00:00Z   56  JARDIM DA PENHA   \n",
       "\n",
       "  scholarship hypertension diabetes alcoholism  handcap sms_received show  \\\n",
       "0          No          Yes       No         No        0           No  Yes   \n",
       "1          No           No       No         No        0           No  Yes   \n",
       "\n",
       "  ap_day_of_week  contact_duration  \n",
       "0         Friday                -1  \n",
       "1         Friday                -1  "
      ]
     },
     "execution_count": 122,
     "metadata": {},
     "output_type": "execute_result"
    }
   ],
   "source": [
    "df.head(2)"
   ]
  },
  {
   "cell_type": "code",
   "execution_count": 128,
   "id": "448be403",
   "metadata": {},
   "outputs": [],
   "source": [
    "#group base on ailments\n",
    "\n",
    "hyp_group_df = df.groupby(['hypertension','show'],\n",
    "                          as_index=False)['age'].count()\n",
    "diab_group_df = df.groupby(['diabetes','show'],\n",
    "            as_index=False)['age'].count()\n",
    "alc_group_df = df.groupby(['alcoholism','show'],\n",
    "            as_index=False)['age'].count()\n",
    "\n",
    "#group individual elemnts based on showing up status\n",
    "#hypertension pateints\n",
    "\n",
    "hyp_show = hyp_group_df[(hyp_group_df.hypertension=='Yes')\n",
    "    & (hyp_group_df.show=='Yes')].iloc[0,2]\n",
    "hyp_no_show = hyp_group_df[(hyp_group_df.hypertension=='Yes')\n",
    "    & (hyp_group_df.show=='No')].iloc[0,2]\n",
    "\n",
    "#diabetic patients\n",
    "diab_show = diab_group_df[(diab_group_df['diabetes']=='Yes')\n",
    "    & (diab_group_df['show']=='Yes')].iloc[0,2]\n",
    "diab_no_show = diab_group_df[(diab_group_df.diabetes=='Yes')\n",
    "        & (diab_group_df.show=='No')].iloc[0,2]\n",
    "\n",
    "#alcholic pateints\n",
    "alc_show = alc_group_df[(alc_group_df['alcoholism']=='Yes')\n",
    "    & (diab_group_df['show']=='Yes')].iloc[0,2]\n",
    "alc_no_show = diab_group_df[(alc_group_df.alcoholism=='Yes')\n",
    "        & (diab_group_df.show=='No')].iloc[0,2]\n"
   ]
  },
  {
   "cell_type": "code",
   "execution_count": 129,
   "id": "87187673",
   "metadata": {},
   "outputs": [],
   "source": [
    "#values for plots\n",
    "\n",
    "hyp_sizes = [hyp_show,hyp_no_show]\n",
    "hyp_labels = ['show','no show']\n",
    "\n",
    "diab_sizes = [diab_show,diab_no_show]\n",
    "diab_labels = ['show','no show']\n",
    "\n",
    "alc_sizes = [alc_show, alc_no_show]\n",
    "alc_labels = ['show', 'no show']"
   ]
  },
  {
   "cell_type": "code",
   "execution_count": 130,
   "id": "b2372ed5",
   "metadata": {},
   "outputs": [
    {
     "data": {
      "image/png": "[encoded data removed]",
      "text/plain": [
       "<Figure size 720x576 with 3 Axes>"
      ]
     },
     "metadata": {},
     "output_type": "display_data"
    }
   ],
   "source": [
    "#plots\n",
    "\n",
    "fig1, (ax1,ax2,ax3) = plt.subplots(1,3,figsize = (10,8))\n",
    "ax1.pie(hyp_sizes, labels = hyp_labels, autopct ='%1.1f%%',\n",
    "    shadow = True, radius = 3)\n",
    "ax1.set_title('Hypertension',pad=65)\n",
    "\n",
    "ax2.pie(diab_sizes,labels=diab_labels,autopct='%1.1f%%',\n",
    "       shadow=True,radius=3)\n",
    "ax2.set_title('Diabetics',pad=65)\n",
    "\n",
    "ax3.pie(alc_sizes,labels=alc_labels,autopct='%1.1f%%',\n",
    "       shadow=True,radius=3)\n",
    "ax3.set_title('Alcoholics',pad=65)\n",
    "\n",
    "fig1.subplots_adjust(wspace=2)\n",
    "\n",
    "plt.show()"
   ]
  },
  {
   "cell_type": "markdown",
   "id": "8773c951",
   "metadata": {},
   "source": [
    "### Conclusions"
   ]
  },
  {
   "cell_type": "markdown",
   "id": "73e3f8de",
   "metadata": {},
   "source": [
    "The dataset contains variables that belong mostly to the norminal level of measurement hence the heavy reliance on grouping and bar chat plots. In the plots, it was obvious that the differences between variables are mostly small. However, a combination of variables, especially those with a bit higher percentage points might show relationships that might likely be considered, with additional analysis, as predictors of a patient showing up. The dataset is short of quantitative variables, so adequately representing statistical correlation was not possible. The analysis relied heavily on categorization and proportion."
   ]
  },
  {
   "cell_type": "markdown",
   "id": "a2a31819",
   "metadata": {},
   "source": [
    "#### Analysis Questions and answers"
   ]
  },
  {
   "cell_type": "markdown",
   "id": "d44cf99e",
   "metadata": {},
   "source": [
    "#####  - Can age be an indicator of wether a patient shows up for a medical appointment?"
   ]
  },
  {
   "cell_type": "markdown",
   "id": "54aea20d",
   "metadata": {},
   "source": [
    "From the dataset, the show up proportion percentage of individuals with age 64 and above (labeled 'seniors') is higher than the rest (84.5%). The lowest proportion percentage are patients within ages 15 and 24 (labeled 'youths'). In between lies 'adults' (80.26%) and 'children' (78.82%). The middle group is relatively close. However, this is not surprising due to the fact that must children aged 14 and below are dependent on adults aged 25 to 64. Using the knowledege that the human body increasingly becomes week with age, it is not surprising that the seniors have higher percentage of show ups. On the other end, patients described as youth are new adults and tend to be a bit more reckless, and might skip more appointements. Given this evidence from the data, there might likely be a correlation between the patients age and the possibility of showing up for the medical appointments."
   ]
  },
  {
   "cell_type": "markdown",
   "id": "0395208a",
   "metadata": {},
   "source": [
    "##### - Can the gender of a patient be a determinant of the likelihood of a patient showing up for a medical appointment?"
   ]
  },
  {
   "cell_type": "markdown",
   "id": "290b62b7",
   "metadata": {},
   "source": [
    "Analysis of the dataset reveals that the gender of patients recorded cannot be reliably correlated to tendency to show up fo the appointments. The percent proportion of female patients is 79.6 while that of the male patients is 80.03"
   ]
  },
  {
   "cell_type": "markdown",
   "id": "5b68e6b5",
   "metadata": {},
   "source": [
    "##### - Does the appointment day of the week determine if a patient will show up?"
   ]
  },
  {
   "cell_type": "markdown",
   "id": "8d6f245b",
   "metadata": {},
   "source": [
    "Analysis of the dataset for this question posits that there is relatively equal percent ratio of showing up for all the seven days in a week. If this findings where to be correlated with the posibility of showing up, there is might be equal chance of patients showing up or not at any day of the week. Although, it was observed from the dataset that saturdays have the lowest show up rate. Emphasis was not not placed on it due to the fact that on 39 observations were recorded on the day in total, which is small compared with the thousands in others."
   ]
  },
  {
   "cell_type": "markdown",
   "id": "78d63468",
   "metadata": {},
   "source": [
    "##### - Does SMS reminders influence showing up?"
   ]
  },
  {
   "cell_type": "markdown",
   "id": "91951493",
   "metadata": {},
   "source": [
    "By far the most interesting findings of this analysis. The percent proportion of those that recieved SMS reminders and showed up is less than those that did not recieved and showed. Conventional logic might dictate that if a reminder is sent, the individual might more likely show up because abstentations have been most often ascribed to forgetfulness. But reverse is the case in the context. In correlation to showing up, reminder is negatively related. Although, these cannot be considered as a validation that not sending SMS can likely increase show up rate."
   ]
  },
  {
   "cell_type": "markdown",
   "id": "e4924604",
   "metadata": {},
   "source": [
    "##### -Does the length of time between booking and actual appointment time affect showing up?"
   ]
  },
  {
   "cell_type": "markdown",
   "id": "5bcaea1c",
   "metadata": {},
   "source": [
    "In the analysis for this question, the dataset set seem to suggest that appointments schedule for a day or less have the greater proportion of been fulfilled. The percent proportion of a day or less is significatly higher and can be correlated with the likelihood of showing up."
   ]
  },
  {
   "cell_type": "markdown",
   "id": "6be7311f",
   "metadata": {},
   "source": [
    "#### Limitations"
   ]
  },
  {
   "cell_type": "markdown",
   "id": "6db629b6",
   "metadata": {},
   "source": [
    "The analysis was done based purely on the categorical variables that are dominant in the dataset. Analysis of categorical values have low reliability because of the limited analytical techniques that could be applied to them. Hence, the dominant method adopted for the study is the percent proportion analysis. This technique suffers from a range of issues, one of which is it doesnt fully capture the total number of individual observations that make up a particular group. For example, a group with a fewer set of values can give the illusion of a very high or very low percentage compared to other groups with higher total values. Also, the dataset was missing a number of key variables that could have likely increased the reliability of the analysis result. Variables like distance from the patient to the hospital, educational background of the patient, economic status of the neighborhood, etc. are other key variables that could have shed more light on the factors that could determine keeping up with medical appointments by patients"
   ]
  },
  {
   "cell_type": "markdown",
   "id": "6e535fe9",
   "metadata": {},
   "source": [
    "#### Conclusion"
   ]
  },
  {
   "cell_type": "markdown",
   "id": "cb514e13",
   "metadata": {},
   "source": [
    "To answer the analysis question, a host of variables need to be considered as likely factors to predict a patient showing up for appointments. Most of the variables analysed were found to not be of significant proportion as to warrant a reliable conclusion. These and the absence of quantitative variables for real correlation analysis further affects the dependability of the results. However, from the analysis of the dataset, it is believed that considering multiple variables together could be potential indicators. The stand out variables with noticeable percent proportion are age and duration of time between contact and appointment. Positing on this, and considering potentially more data analysis on causation, an individual with advance age and appointment set less than a day, has a greater probability of showing up. Age and duration can be deemed positively correlated to showing up."
   ]
  }
 ],
 "metadata": {
  "kernelspec": {
   "display_name": "Python 3 (ipykernel)",
   "language": "python",
   "name": "python3"
  },
  "language_info": {
   "codemirror_mode": {
    "name": "ipython",
    "version": 3
   },
   "file_extension": ".py",
   "mimetype": "text/x-python",
   "name": "python",
   "nbconvert_exporter": "python",
   "pygments_lexer": "ipython3",
   "version": "3.9.5"
  }
 },
 "nbformat": 4,
 "nbformat_minor": 5
}
